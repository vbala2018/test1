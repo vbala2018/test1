{
 "cells": [
  {
   "cell_type": "markdown",
   "metadata": {},
   "source": [
    "## Introduction to Big Data Midterm"
   ]
  },
  {
   "cell_type": "markdown",
   "metadata": {},
   "source": [
    "Assign date: 2017-12-03\n",
    "\n",
    "Due date: 2017-12-16 11:59pm\n",
    "\n",
    "Please submit only one copy of your Jupyter Notebook file with your answers for each question provided in the following cells below to Moodle. There will be no extensions or excemptions. \n",
    "\n",
    "You will lose 15% each day your submission is late. \n",
    "\n",
    "Please do not post any answers to the general question forum. You can however ask for technical help on the course page if you are having actualy technical issues. I reserve the right to delete any question/response that I deem being too much \"begging for hints\" in nature. You may email me directly at mtenney@yorku.ca if you have any questions, but do note I will not provide you any answers and my response may take up to 48hrs. And of course, you're free to use any class material, the Internet, or additional resources to complete the exam. The exam covers material from weeks 1-4 inclusively.\n",
    "\n",
    "Note you MUST RUN THE CODE and print out the required results when submitting. Any empty cells or un-run code will not be accepted. "
   ]
  },
  {
   "cell_type": "markdown",
   "metadata": {},
   "source": [
    "\n",
    "**1) Import the following libraries to your notebook (you can use alias' if you want) in the cell below:**<br/>\n",
    "    pandas,\n",
    "    seaborn,\n",
    "    os,\n",
    "    matplotlib.pyplot<br/>\n",
    "**And** add the following flag: \n",
    "    %matplotlib inline"
   ]
  },
  {
   "cell_type": "code",
   "execution_count": 1,
   "metadata": {
    "collapsed": true
   },
   "outputs": [],
   "source": [
    "%matplotlib inline\n",
    "# import naming conventions \n",
    "# import numpy as np\n",
    "import pandas as pd\n",
    "import seaborn as sns\n",
    "import os as os\n",
    "import matplotlib.pyplot as plt "
   ]
  },
  {
   "cell_type": "markdown",
   "metadata": {},
   "source": [
    "**2) Index a list in Python**<br/>\n",
    "Run the code below, it will give a result of 4. If we want to get ONLY the number 8 from the list of lists below, how would you alter the code? Alter the code directly and run to print the desired output. "
   ]
  },
  {
   "cell_type": "code",
   "execution_count": 2,
   "metadata": {},
   "outputs": [
    {
     "name": "stdout",
     "output_type": "stream",
     "text": [
      "8\n"
     ]
    }
   ],
   "source": [
    "question2 = [[1,2],[3,4],[5,6],[7,[8,9]]]\n",
    "print question2[3][1][0]"
   ]
  },
  {
   "cell_type": "markdown",
   "metadata": {},
   "source": [
    "**3) Define a variable called bigdata, to be a list in python with the following elements and print only the last two elements of the list:**<br/> 1, \"Big Data Class\", 2, \"Is Really Fun\",3, \"I Love Python\""
   ]
  },
  {
   "cell_type": "code",
   "execution_count": 3,
   "metadata": {},
   "outputs": [
    {
     "name": "stdout",
     "output_type": "stream",
     "text": [
      "Is Really Fun\n",
      "I Love Python\n"
     ]
    }
   ],
   "source": [
    "bigdata = ['Big Data Class', 'Is Really Fun', 'I Love Python']\n",
    "for i in [1, 2]:\n",
    "    print(bigdata[i])"
   ]
  },
  {
   "cell_type": "markdown",
   "metadata": {},
   "source": [
    "**4) Cast the following list to be a string in Python:** <br/>\n",
    "Define the list [1,2,4,3,'k'] and cast it to a string where you print out '1243k'. Insert your code below."
   ]
  },
  {
   "cell_type": "code",
   "execution_count": 4,
   "metadata": {},
   "outputs": [
    {
     "data": {
      "text/plain": [
       "'1243k'"
      ]
     },
     "execution_count": 4,
     "metadata": {},
     "output_type": "execute_result"
    }
   ],
   "source": [
    "list0 = [1,2,4,3,'k']\n",
    "''.join(str(x) for x in list0)"
   ]
  },
  {
   "cell_type": "markdown",
   "metadata": {},
   "source": [
    "**5) Test whether the two lists are equal too each other and if not what elements are shared between the two lists.**<br/>\n",
    "<t/>list1 = ['1',2,'3',4,5]<br/>\n",
    "<t/>list2 = [1,2,3,4,'5',6]<br/>\n",
    "<br/>\n",
    "Define the lists and print whether the lists are equal to one another, and find which elements are a match. (***Hint you can go element by element or use you can use a \"for\" loop, or, you can use a different data structure all together***). \n"
   ]
  },
  {
   "cell_type": "code",
   "execution_count": 5,
   "metadata": {},
   "outputs": [
    {
     "name": "stdout",
     "output_type": "stream",
     "text": [
      "list 2 is longer\n",
      "The elements which match are:\n",
      "[2, 4]\n"
     ]
    }
   ],
   "source": [
    "list1 = ['1',2,'3',4,5]\n",
    "list2 = [1,2,3,4,'5',6]\n",
    "#print list1, list2\n",
    "\n",
    "#find longest\n",
    "a = len(list1)\n",
    "b = len(list2)\n",
    "if a > b:\n",
    "    print 'list 1 is longer'\n",
    "elif a < b:\n",
    "    print 'list 2 is longer'\n",
    "elif a == b:\n",
    "    print 'lists provided are of the same length'\n",
    "\n",
    "#find matches\n",
    "matches=[]\n",
    "for item_a in list1:\n",
    "    for item_b in list2:\n",
    "        if item_a == item_b:\n",
    "            matches.append(item_b)\n",
    "print 'The elements which match are:'            \n",
    "print matches\n"
   ]
  },
  {
   "cell_type": "markdown",
   "metadata": {},
   "source": [
    "**6) Test whether the two lists are equal too each other and if not what elements are shared between the two lists.**<br/>"
   ]
  },
  {
   "cell_type": "code",
   "execution_count": null,
   "metadata": {
    "collapsed": true
   },
   "outputs": [],
   "source": [
    "# This question seems to be a duplicate of question 5"
   ]
  },
  {
   "cell_type": "markdown",
   "metadata": {},
   "source": [
    "**7) What are the \"5 V's\" commonly used to describe Big Data?** Write your answer below."
   ]
  },
  {
   "cell_type": "code",
   "execution_count": 17,
   "metadata": {},
   "outputs": [
    {
     "name": "stdout",
     "output_type": "stream",
     "text": [
      "\n",
      "The 5 V's are:\n",
      "\t- Volume\n",
      "\t- Velocity\n",
      "\t- Variety\n",
      "\t- Veracity\n",
      "\t- Value\n",
      "\n"
     ]
    }
   ],
   "source": [
    "print \"\"\"\n",
    "The 5 V's are:\n",
    "\\t- Volume\n",
    "\\t- Velocity\n",
    "\\t- Variety\n",
    "\\t- Veracity\n",
    "\\t- Value\n",
    "\"\"\""
   ]
  },
  {
   "cell_type": "markdown",
   "metadata": {},
   "source": [
    "**8) Finish the quote:**<br/> *\"All models are wrong. Some are [...]\"*"
   ]
  },
  {
   "cell_type": "code",
   "execution_count": 18,
   "metadata": {},
   "outputs": [
    {
     "name": "stdout",
     "output_type": "stream",
     "text": [
      "All models are wrong. However some are more useful than others\n"
     ]
    }
   ],
   "source": [
    "print 'All models are wrong. However some are more useful than others'"
   ]
  },
  {
   "cell_type": "markdown",
   "metadata": {},
   "source": [
    "**9) If a variable dogs = 103x23/2 and a variable cats = 10x12x4,  Use python to determing if dogs are greater than cats. **"
   ]
  },
  {
   "cell_type": "code",
   "execution_count": 24,
   "metadata": {},
   "outputs": [
    {
     "name": "stdout",
     "output_type": "stream",
     "text": [
      "dogs are greater\n"
     ]
    }
   ],
   "source": [
    "dogs = 103 * 23 / 2\n",
    "cats = 10 * 2 * 4\n",
    "if dogs > cats:\n",
    "    print 'dogs are greater'\n",
    "elif dogs < cats:\n",
    "    print 'cats are greater'"
   ]
  },
  {
   "cell_type": "markdown",
   "metadata": {},
   "source": [
    "**10) What is the name for the 3 primary measures of central tendency and give their definition** "
   ]
  },
  {
   "cell_type": "code",
   "execution_count": 26,
   "metadata": {},
   "outputs": [
    {
     "name": "stdout",
     "output_type": "stream",
     "text": [
      "\n",
      "The 3 pirimary measures of central tendency are:\n",
      "\t- mean : signifying average value\n",
      "\t- median : signifying middle value\n",
      "\t- mode : signifying most common value\n",
      "\n"
     ]
    }
   ],
   "source": [
    "print \"\"\"\n",
    "The 3 pirimary measures of central tendency are:\n",
    "\\t- mean : signifying average value\n",
    "\\t- median : signifying middle value\n",
    "\\t- mode : signifying most common value\n",
    "\"\"\""
   ]
  },
  {
   "cell_type": "markdown",
   "metadata": {},
   "source": [
    "**11) Calculate the descriptive statistice for each of the above central measures in Python on this list of numbers and print out the values:**<br/> \n",
    "\n",
    "[12,44,23,2,1,66,7,85,3,34,23,6,34,23,7,21,14,34,23,88]\n",
    "<br/> \n",
    "*(Hint: it might be easier to import a function from some other library)*\n",
    "\n"
   ]
  },
  {
   "cell_type": "code",
   "execution_count": 17,
   "metadata": {},
   "outputs": [
    {
     "name": "stdout",
     "output_type": "stream",
     "text": [
      "the mean value of list a is:\n",
      "27.5\n",
      "the median value of list b is:\n",
      "23.0\n",
      "('The mode is:', 23, 'it appeared', 4, 'times.')\n"
     ]
    }
   ],
   "source": [
    "import numpy as np\n",
    "#from scipy import stats, integrate, mode\n",
    "# mean - avg\n",
    "a = [12,44,23,2,1,66,7,85,3,34,23,6,34,23,7,21,14,34,23,88]\n",
    "print 'the mean value of list a is:'\n",
    "print np.mean(a)\n",
    "\n",
    "# median - middle value\n",
    "b = [12,44,23,2,1,66,7,85,3,34,23,6,34,23,7,21,14,34,23,88]\n",
    "print 'the median value of list b is:'\n",
    "print np.median(b)\n",
    "\n",
    "#mode - signifying the most common vlaue\n",
    "#numpy doesn't seem to have a mode function\n",
    "c = [12,44,23,2,1,66,7,85,3,34,23,6,34,23,7,21,14,34,23,88]\n",
    "\n",
    "occurences = []\n",
    "for item in c:\n",
    "    tally = c.count(item)\n",
    "    #Makes a tuple that is the number of hits paired with the relevant number\n",
    "    values = (tally, item)\n",
    "    # Only add one entry for each number in the set\n",
    "    if values not in occurences:\n",
    "        occurences.append(values)\n",
    "occurences.sort(reverse=True)\n",
    "if occurences[0][0]>occurences[1][0]:\n",
    "    print(\"The mode is:\", occurences[0][1], \"it appeared\", occurences[0][0], \"times.\")\n",
    "else:\n",
    "    print(\"There is no mode\")\n",
    "\n",
    "    \n",
    "#max(set([12,44,23,2,1,66,7,85,3,34,23,6,34,23,7,21,14,34,23,88]), key=list.count)"
   ]
  },
  {
   "cell_type": "markdown",
   "metadata": {},
   "source": [
    "**12) Delete the empty cell  between question 12 (this one) and Question 13 from the Jupyter notebook**"
   ]
  },
  {
   "cell_type": "markdown",
   "metadata": {},
   "source": [
    "**13) Create a list, called mylist, containing a sequential list of numbers that starts with 2 and stops at 1000, counting by 2's in Python**"
   ]
  },
  {
   "cell_type": "code",
   "execution_count": 76,
   "metadata": {},
   "outputs": [
    {
     "name": "stdout",
     "output_type": "stream",
     "text": [
      "[2, 4, 6, 8, 10, 12, 14, 16, 18, 20, 22, 24, 26, 28, 30, 32, 34, 36, 38, 40, 42, 44, 46, 48, 50, 52, 54, 56, 58, 60, 62, 64, 66, 68, 70, 72, 74, 76, 78, 80, 82, 84, 86, 88, 90, 92, 94, 96, 98, 100, 102, 104, 106, 108, 110, 112, 114, 116, 118, 120, 122, 124, 126, 128, 130, 132, 134, 136, 138, 140, 142, 144, 146, 148, 150, 152, 154, 156, 158, 160, 162, 164, 166, 168, 170, 172, 174, 176, 178, 180, 182, 184, 186, 188, 190, 192, 194, 196, 198, 200, 202, 204, 206, 208, 210, 212, 214, 216, 218, 220, 222, 224, 226, 228, 230, 232, 234, 236, 238, 240, 242, 244, 246, 248, 250, 252, 254, 256, 258, 260, 262, 264, 266, 268, 270, 272, 274, 276, 278, 280, 282, 284, 286, 288, 290, 292, 294, 296, 298, 300, 302, 304, 306, 308, 310, 312, 314, 316, 318, 320, 322, 324, 326, 328, 330, 332, 334, 336, 338, 340, 342, 344, 346, 348, 350, 352, 354, 356, 358, 360, 362, 364, 366, 368, 370, 372, 374, 376, 378, 380, 382, 384, 386, 388, 390, 392, 394, 396, 398, 400, 402, 404, 406, 408, 410, 412, 414, 416, 418, 420, 422, 424, 426, 428, 430, 432, 434, 436, 438, 440, 442, 444, 446, 448, 450, 452, 454, 456, 458, 460, 462, 464, 466, 468, 470, 472, 474, 476, 478, 480, 482, 484, 486, 488, 490, 492, 494, 496, 498, 500, 502, 504, 506, 508, 510, 512, 514, 516, 518, 520, 522, 524, 526, 528, 530, 532, 534, 536, 538, 540, 542, 544, 546, 548, 550, 552, 554, 556, 558, 560, 562, 564, 566, 568, 570, 572, 574, 576, 578, 580, 582, 584, 586, 588, 590, 592, 594, 596, 598, 600, 602, 604, 606, 608, 610, 612, 614, 616, 618, 620, 622, 624, 626, 628, 630, 632, 634, 636, 638, 640, 642, 644, 646, 648, 650, 652, 654, 656, 658, 660, 662, 664, 666, 668, 670, 672, 674, 676, 678, 680, 682, 684, 686, 688, 690, 692, 694, 696, 698, 700, 702, 704, 706, 708, 710, 712, 714, 716, 718, 720, 722, 724, 726, 728, 730, 732, 734, 736, 738, 740, 742, 744, 746, 748, 750, 752, 754, 756, 758, 760, 762, 764, 766, 768, 770, 772, 774, 776, 778, 780, 782, 784, 786, 788, 790, 792, 794, 796, 798, 800, 802, 804, 806, 808, 810, 812, 814, 816, 818, 820, 822, 824, 826, 828, 830, 832, 834, 836, 838, 840, 842, 844, 846, 848, 850, 852, 854, 856, 858, 860, 862, 864, 866, 868, 870, 872, 874, 876, 878, 880, 882, 884, 886, 888, 890, 892, 894, 896, 898, 900, 902, 904, 906, 908, 910, 912, 914, 916, 918, 920, 922, 924, 926, 928, 930, 932, 934, 936, 938, 940, 942, 944, 946, 948, 950, 952, 954, 956, 958, 960, 962, 964, 966, 968, 970, 972, 974, 976, 978, 980, 982, 984, 986, 988, 990, 992, 994, 996, 998]\n"
     ]
    }
   ],
   "source": [
    "mylist = []\n",
    "mylist = range(2,1000,2)\n",
    "print mylist"
   ]
  },
  {
   "cell_type": "markdown",
   "metadata": {},
   "source": [
    "**14) Is the sum of the first 50 elements in \"mylist\" greater than the last element of  \"mylist\"?**<br/> Use Python below to print out the answer. (mylist is defined in question 13). "
   ]
  },
  {
   "cell_type": "code",
   "execution_count": 77,
   "metadata": {},
   "outputs": [
    {
     "name": "stdout",
     "output_type": "stream",
     "text": [
      "sum of first 50 elements in mylist is greater than the last element of mylist\n"
     ]
    }
   ],
   "source": [
    "#len(mylist)\n",
    "#mylist[1:10]\n",
    "\n",
    "x = sum(mylist[:50])\n",
    "y = max(mylist)\n",
    "if x > y:\n",
    "    print 'sum of first 50 elements in mylist is greater than the last element of mylist'\n",
    "else:\n",
    "    print 'sum of first 50 elements in my list is less than the last element of mylist'\n",
    "    "
   ]
  },
  {
   "cell_type": "markdown",
   "metadata": {},
   "source": [
    "**15) What is the length of \"mylist\"?**"
   ]
  },
  {
   "cell_type": "code",
   "execution_count": 69,
   "metadata": {},
   "outputs": [
    {
     "name": "stdout",
     "output_type": "stream",
     "text": [
      "('The length of mylist is:', 499)\n"
     ]
    }
   ],
   "source": [
    "print ('The length of mylist is:', len(mylist))"
   ]
  },
  {
   "cell_type": "markdown",
   "metadata": {},
   "source": [
    "**16) Create another list, called my2ndlist, containing a list of numbers starting at 1002 and stops at 1052,counting by 3's in Python. <br/>THEN concatenate my2ndlist with mylist into a new list called theMegaList.**<br/> Print theMegaList below."
   ]
  },
  {
   "cell_type": "code",
   "execution_count": 80,
   "metadata": {},
   "outputs": [
    {
     "name": "stdout",
     "output_type": "stream",
     "text": [
      "[2, 4, 6, 8, 10, 12, 14, 16, 18, 20, 22, 24, 26, 28, 30, 32, 34, 36, 38, 40, 42, 44, 46, 48, 50, 52, 54, 56, 58, 60, 62, 64, 66, 68, 70, 72, 74, 76, 78, 80, 82, 84, 86, 88, 90, 92, 94, 96, 98, 100, 102, 104, 106, 108, 110, 112, 114, 116, 118, 120, 122, 124, 126, 128, 130, 132, 134, 136, 138, 140, 142, 144, 146, 148, 150, 152, 154, 156, 158, 160, 162, 164, 166, 168, 170, 172, 174, 176, 178, 180, 182, 184, 186, 188, 190, 192, 194, 196, 198, 200, 202, 204, 206, 208, 210, 212, 214, 216, 218, 220, 222, 224, 226, 228, 230, 232, 234, 236, 238, 240, 242, 244, 246, 248, 250, 252, 254, 256, 258, 260, 262, 264, 266, 268, 270, 272, 274, 276, 278, 280, 282, 284, 286, 288, 290, 292, 294, 296, 298, 300, 302, 304, 306, 308, 310, 312, 314, 316, 318, 320, 322, 324, 326, 328, 330, 332, 334, 336, 338, 340, 342, 344, 346, 348, 350, 352, 354, 356, 358, 360, 362, 364, 366, 368, 370, 372, 374, 376, 378, 380, 382, 384, 386, 388, 390, 392, 394, 396, 398, 400, 402, 404, 406, 408, 410, 412, 414, 416, 418, 420, 422, 424, 426, 428, 430, 432, 434, 436, 438, 440, 442, 444, 446, 448, 450, 452, 454, 456, 458, 460, 462, 464, 466, 468, 470, 472, 474, 476, 478, 480, 482, 484, 486, 488, 490, 492, 494, 496, 498, 500, 502, 504, 506, 508, 510, 512, 514, 516, 518, 520, 522, 524, 526, 528, 530, 532, 534, 536, 538, 540, 542, 544, 546, 548, 550, 552, 554, 556, 558, 560, 562, 564, 566, 568, 570, 572, 574, 576, 578, 580, 582, 584, 586, 588, 590, 592, 594, 596, 598, 600, 602, 604, 606, 608, 610, 612, 614, 616, 618, 620, 622, 624, 626, 628, 630, 632, 634, 636, 638, 640, 642, 644, 646, 648, 650, 652, 654, 656, 658, 660, 662, 664, 666, 668, 670, 672, 674, 676, 678, 680, 682, 684, 686, 688, 690, 692, 694, 696, 698, 700, 702, 704, 706, 708, 710, 712, 714, 716, 718, 720, 722, 724, 726, 728, 730, 732, 734, 736, 738, 740, 742, 744, 746, 748, 750, 752, 754, 756, 758, 760, 762, 764, 766, 768, 770, 772, 774, 776, 778, 780, 782, 784, 786, 788, 790, 792, 794, 796, 798, 800, 802, 804, 806, 808, 810, 812, 814, 816, 818, 820, 822, 824, 826, 828, 830, 832, 834, 836, 838, 840, 842, 844, 846, 848, 850, 852, 854, 856, 858, 860, 862, 864, 866, 868, 870, 872, 874, 876, 878, 880, 882, 884, 886, 888, 890, 892, 894, 896, 898, 900, 902, 904, 906, 908, 910, 912, 914, 916, 918, 920, 922, 924, 926, 928, 930, 932, 934, 936, 938, 940, 942, 944, 946, 948, 950, 952, 954, 956, 958, 960, 962, 964, 966, 968, 970, 972, 974, 976, 978, 980, 982, 984, 986, 988, 990, 992, 994, 996, 998, 1002, 1005, 1008, 1011, 1014, 1017, 1020, 1023, 1026, 1029, 1032, 1035, 1038, 1041, 1044, 1047, 1050, 1002, 1005, 1008, 1011, 1014, 1017, 1020, 1023, 1026, 1029, 1032, 1035, 1038, 1041, 1044, 1047, 1050, 1002, 1005, 1008, 1011, 1014, 1017, 1020, 1023, 1026, 1029, 1032, 1035, 1038, 1041, 1044, 1047, 1050]\n"
     ]
    }
   ],
   "source": [
    "my2ndlist = []\n",
    "my2ndlist = range(1002,1052,3)\n",
    "#print my2ndlist\n",
    "\n",
    "theMegaList = []\n",
    "mylist.extend(my2ndlist)\n",
    "theMegaList = mylist\n",
    "print theMegaList\n"
   ]
  },
  {
   "cell_type": "markdown",
   "metadata": {},
   "source": [
    "**17) What is the index for the value 822 in theMegaList?**"
   ]
  },
  {
   "cell_type": "code",
   "execution_count": 81,
   "metadata": {},
   "outputs": [
    {
     "name": "stdout",
     "output_type": "stream",
     "text": [
      "410\n"
     ]
    }
   ],
   "source": [
    "print theMegaList.index(822)\n"
   ]
  },
  {
   "cell_type": "markdown",
   "metadata": {},
   "source": [
    "**18) Write a for loop that will test if an element in theMegaList is an even or odd number and keeps a count of how many of each there are in the list.**<br/> Print out the total number of even and odd numbers found in theMegalist below. "
   ]
  },
  {
   "cell_type": "code",
   "execution_count": 85,
   "metadata": {},
   "outputs": [
    {
     "name": "stdout",
     "output_type": "stream",
     "text": [
      "('the even count is:', 526, 'the odd count is:', 24)\n"
     ]
    }
   ],
   "source": [
    "odd_count = 0\n",
    "even_count = 0\n",
    "\n",
    "for element in theMegaList:\n",
    "    if element % 2 == 0:\n",
    "        even_count += 1\n",
    "    else:\n",
    "        odd_count += 1\n",
    "        \n",
    "print ('the even count is:', even_count, 'the odd count is:', odd_count)"
   ]
  },
  {
   "cell_type": "markdown",
   "metadata": {},
   "source": [
    "**19) Write a brief definition of what Data Latency and the difference between \"real-time\" and \"near-time\" data.**"
   ]
  },
  {
   "cell_type": "code",
   "execution_count": 8,
   "metadata": {},
   "outputs": [
    {
     "name": "stdout",
     "output_type": "stream",
     "text": [
      "\n",
      "Data Latency:\n",
      "\t- real-time: when there is a 'small' amount of time between a real event and the data is updated to reflect it\n",
      "\t- near-time: refers to latency that is less than a day but greater than an hour\n",
      "\n"
     ]
    }
   ],
   "source": [
    "print \"\"\"\n",
    "Data Latency:\n",
    "\\t- real-time: when there is a 'small' amount of time between a real event and the data is updated to reflect it\n",
    "\\t- near-time: refers to latency that is less than a day but greater than an hour\n",
    "\"\"\"\n",
    "\n"
   ]
  },
  {
   "cell_type": "markdown",
   "metadata": {},
   "source": [
    "**19) What does the statistic Standard Deviation tell you about a numerical dataset? **"
   ]
  },
  {
   "cell_type": "code",
   "execution_count": 7,
   "metadata": {},
   "outputs": [
    {
     "name": "stdout",
     "output_type": "stream",
     "text": [
      "\n",
      "Standard Deviation:\n",
      "\t- describes how far on average we are from the mean with any numerical dataset\n",
      "\n",
      "\n"
     ]
    }
   ],
   "source": [
    "print \"\"\"\n",
    "Standard Deviation:\n",
    "\\t- describes how far on average we are from the mean with any numerical dataset\n",
    "\n",
    "\"\"\""
   ]
  },
  {
   "cell_type": "markdown",
   "metadata": {},
   "source": [
    "**20) Suppose you have the following loop:**<br>\n",
    ">things = [1,2,3,5,6,7,8,9,10]<br>\n",
    ">previous_thing = 0<br>\n",
    ">for thing in things:<br>\n",
    ">>new_thing = thing * previous_thing<br>\n",
    ">>x = 3+previous_thing<br>\n",
    ">>previous_thing = thing<br>\n",
    "\n",
    "**At the end of the loop:**\n",
    ">**What does new_thing equal?**<br>\n",
    ">**What does x equal?**\n",
    "    \n",
    "    \n"
   ]
  },
  {
   "cell_type": "code",
   "execution_count": 6,
   "metadata": {},
   "outputs": [
    {
     "name": "stdout",
     "output_type": "stream",
     "text": [
      "x value is 12\n",
      "new_thing value is 90\n"
     ]
    }
   ],
   "source": [
    "things = [1,2,3,5,6,7,8,9,10]\n",
    "previous_thing = 0\n",
    "for thing in things:\n",
    "\n",
    "    new_thing = thing * previous_thing\n",
    "    x = 3+previous_thing\n",
    "    previous_thing = thing\n",
    "    \n",
    "print (\"x value is %d\" %x)\n",
    "print (\"new_thing value is %d\" %new_thing) "
   ]
  },
  {
   "cell_type": "markdown",
   "metadata": {},
   "source": [
    "**21) What's the difference between Zero and None or Null?** "
   ]
  },
  {
   "cell_type": "code",
   "execution_count": null,
   "metadata": {
    "collapsed": true
   },
   "outputs": [],
   "source": [
    "print \"\"\"\n",
    "Data Latency:\n",
    "\\t- null is qualitative, representing the absense of quantity\n",
    "\\t- zero is quantitative, meaning the absense of a quantitative data for any given category of information\n",
    "\"\"\""
   ]
  },
  {
   "cell_type": "markdown",
   "metadata": {},
   "source": [
    "**22) In the following loop:**<br> \n",
    ">x = 1<br>\n",
    ">sure_thing = True<br>\n",
    ">while sure_thing:<br>\n",
    ">>x = x +100<br>\n",
    ">>if x < 20001: <br>\n",
    ">>>x = x-1<br>\n",
    ">>else: <br>\n",
    ">>>sure_thing = False<br>\n",
    "\n",
    "**What does x equal to make our sure_thing False? **\n",
    "        "
   ]
  },
  {
   "cell_type": "code",
   "execution_count": 13,
   "metadata": {},
   "outputs": [
    {
     "name": "stdout",
     "output_type": "stream",
     "text": [
      "value of X is: 20099\n"
     ]
    }
   ],
   "source": [
    "x = 1\n",
    "sure_thing = True\n",
    "while sure_thing:\n",
    "\n",
    "    x = x +100\n",
    "    if x < 20001:\n",
    "\n",
    "        x = x-1\n",
    "    else:\n",
    "        sure_thing = False\n",
    "        print (\"value of X is: %d\" %x)\n",
    "        "
   ]
  },
  {
   "cell_type": "markdown",
   "metadata": {},
   "source": [
    "**Based on the DataFrame df and df1 defined below, add needed code to answer the following questions.**"
   ]
  },
  {
   "cell_type": "code",
   "execution_count": 3,
   "metadata": {
    "collapsed": true
   },
   "outputs": [],
   "source": [
    "from pandas import Series, DataFrame\n",
    "import pandas as pd\n",
    "raw_data = {'first_name': ['Jason', 'Jason', 'Tina', 'Jake', 'Amy'],\n",
    "        'last_name': ['Miller', 'Miller', 'Ali', 'Milner', 'Milner'],\n",
    "        'age': [42, 42, 36, 24, 73],\n",
    "        'preTest': [4, 4, 31, 2, 3],\n",
    "        'postTest': [25, 25, 57, 62, 70]}\n",
    "df = pd.DataFrame(raw_data, columns = ['first_name', 'last_name', 'age', 'preTest', 'postTest'])\n",
    "df1 = df"
   ]
  },
  {
   "cell_type": "markdown",
   "metadata": {},
   "source": [
    "**23) What are the column names in df1?print the result.**"
   ]
  },
  {
   "cell_type": "code",
   "execution_count": 6,
   "metadata": {},
   "outputs": [
    {
     "name": "stdout",
     "output_type": "stream",
     "text": [
      "Index([u'first_name', u'last_name', u'age', u'preTest', u'postTest'], dtype='object')\n"
     ]
    }
   ],
   "source": [
    "print df1.columns\n"
   ]
  },
  {
   "cell_type": "markdown",
   "metadata": {},
   "source": [
    "**24) What is the average (mean) of the preTest and postTest scores?print the result. **"
   ]
  },
  {
   "cell_type": "code",
   "execution_count": 11,
   "metadata": {},
   "outputs": [
    {
     "name": "stdout",
     "output_type": "stream",
     "text": [
      "8.8\n",
      "47.8\n"
     ]
    }
   ],
   "source": [
    "import numpy as np\n",
    "preTest = [4, 4, 31, 2, 3],\n",
    "postTest =  [25, 25, 57, 62, 70]\n",
    "\n",
    "print np.mean(preTest)\n",
    "print np.mean(postTest)"
   ]
  },
  {
   "cell_type": "markdown",
   "metadata": {},
   "source": [
    "\n",
    "**25) Remove duplicated rows in df based on last_name only.  Instead of keeping the first value, now keep the last of the duplicated values.print the result.**"
   ]
  },
  {
   "cell_type": "code",
   "execution_count": 73,
   "metadata": {},
   "outputs": [
    {
     "data": {
      "text/html": [
       "<div>\n",
       "<style>\n",
       "    .dataframe thead tr:only-child th {\n",
       "        text-align: right;\n",
       "    }\n",
       "\n",
       "    .dataframe thead th {\n",
       "        text-align: left;\n",
       "    }\n",
       "\n",
       "    .dataframe tbody tr th {\n",
       "        vertical-align: top;\n",
       "    }\n",
       "</style>\n",
       "<table border=\"1\" class=\"dataframe\">\n",
       "  <thead>\n",
       "    <tr style=\"text-align: right;\">\n",
       "      <th></th>\n",
       "      <th>first_name</th>\n",
       "      <th>last_name</th>\n",
       "      <th>age</th>\n",
       "      <th>preTest</th>\n",
       "      <th>postTest</th>\n",
       "    </tr>\n",
       "  </thead>\n",
       "  <tbody>\n",
       "    <tr>\n",
       "      <th>1</th>\n",
       "      <td>Jason</td>\n",
       "      <td>Miller</td>\n",
       "      <td>42</td>\n",
       "      <td>4</td>\n",
       "      <td>25</td>\n",
       "    </tr>\n",
       "    <tr>\n",
       "      <th>2</th>\n",
       "      <td>Tina</td>\n",
       "      <td>Ali</td>\n",
       "      <td>36</td>\n",
       "      <td>31</td>\n",
       "      <td>57</td>\n",
       "    </tr>\n",
       "    <tr>\n",
       "      <th>4</th>\n",
       "      <td>Amy</td>\n",
       "      <td>Milner</td>\n",
       "      <td>73</td>\n",
       "      <td>3</td>\n",
       "      <td>70</td>\n",
       "    </tr>\n",
       "  </tbody>\n",
       "</table>\n",
       "</div>"
      ],
      "text/plain": [
       "  first_name last_name  age  preTest  postTest\n",
       "1      Jason    Miller   42        4        25\n",
       "2       Tina       Ali   36       31        57\n",
       "4        Amy    Milner   73        3        70"
      ]
     },
     "execution_count": 73,
     "metadata": {},
     "output_type": "execute_result"
    }
   ],
   "source": [
    "#df.drop_duplicates(subset=['last_name'])\n",
    "df.drop_duplicates(subset=['last_name'], keep='last')\n"
   ]
  },
  {
   "cell_type": "markdown",
   "metadata": {},
   "source": [
    "**26) Remove duplicated rows in df1 based on both first_name and last_name.  print the result.**"
   ]
  },
  {
   "cell_type": "code",
   "execution_count": 74,
   "metadata": {},
   "outputs": [
    {
     "data": {
      "text/html": [
       "<div>\n",
       "<style>\n",
       "    .dataframe thead tr:only-child th {\n",
       "        text-align: right;\n",
       "    }\n",
       "\n",
       "    .dataframe thead th {\n",
       "        text-align: left;\n",
       "    }\n",
       "\n",
       "    .dataframe tbody tr th {\n",
       "        vertical-align: top;\n",
       "    }\n",
       "</style>\n",
       "<table border=\"1\" class=\"dataframe\">\n",
       "  <thead>\n",
       "    <tr style=\"text-align: right;\">\n",
       "      <th></th>\n",
       "      <th>first_name</th>\n",
       "      <th>last_name</th>\n",
       "      <th>age</th>\n",
       "      <th>preTest</th>\n",
       "      <th>postTest</th>\n",
       "    </tr>\n",
       "  </thead>\n",
       "  <tbody>\n",
       "    <tr>\n",
       "      <th>1</th>\n",
       "      <td>Jason</td>\n",
       "      <td>Miller</td>\n",
       "      <td>42</td>\n",
       "      <td>4</td>\n",
       "      <td>25</td>\n",
       "    </tr>\n",
       "    <tr>\n",
       "      <th>2</th>\n",
       "      <td>Tina</td>\n",
       "      <td>Ali</td>\n",
       "      <td>36</td>\n",
       "      <td>31</td>\n",
       "      <td>57</td>\n",
       "    </tr>\n",
       "    <tr>\n",
       "      <th>3</th>\n",
       "      <td>Jake</td>\n",
       "      <td>Milner</td>\n",
       "      <td>24</td>\n",
       "      <td>2</td>\n",
       "      <td>62</td>\n",
       "    </tr>\n",
       "    <tr>\n",
       "      <th>4</th>\n",
       "      <td>Amy</td>\n",
       "      <td>Milner</td>\n",
       "      <td>73</td>\n",
       "      <td>3</td>\n",
       "      <td>70</td>\n",
       "    </tr>\n",
       "  </tbody>\n",
       "</table>\n",
       "</div>"
      ],
      "text/plain": [
       "  first_name last_name  age  preTest  postTest\n",
       "1      Jason    Miller   42        4        25\n",
       "2       Tina       Ali   36       31        57\n",
       "3       Jake    Milner   24        2        62\n",
       "4        Amy    Milner   73        3        70"
      ]
     },
     "execution_count": 74,
     "metadata": {},
     "output_type": "execute_result"
    }
   ],
   "source": [
    "df.drop_duplicates(subset=['first_name', 'last_name'], keep='last')\n",
    "#print df"
   ]
  },
  {
   "cell_type": "markdown",
   "metadata": {},
   "source": [
    "***Use the dataframe defined in the following cell to answer the next few questions***: "
   ]
  },
  {
   "cell_type": "code",
   "execution_count": 4,
   "metadata": {},
   "outputs": [
    {
     "name": "stdout",
     "output_type": "stream",
     "text": [
      "            0         1         2         3\n",
      "0    0.496714 -0.138264  0.647689  1.523030\n",
      "1   -0.234153 -0.234137  1.579213  0.767435\n",
      "2   -0.469474  0.542560 -0.463418 -0.465730\n",
      "3    0.241962 -1.913280 -1.724918 -0.562288\n",
      "4   -1.012831  0.314247 -0.908024 -1.412304\n",
      "5    1.465649 -0.225776  0.067528 -1.424748\n",
      "6   -0.544383  0.110923 -1.150994  0.375698\n",
      "7   -0.600639 -0.291694 -0.601707  1.852278\n",
      "8   -0.013497 -1.057711  0.822545 -1.220844\n",
      "9    0.208864 -1.959670 -1.328186  0.196861\n",
      "10   0.738467  0.171368 -0.115648 -0.301104\n",
      "11  -1.478522 -0.719844 -0.460639  1.057122\n",
      "12   0.343618 -1.763040  0.324084 -0.385082\n",
      "13  -0.676922  0.611676  1.031000  0.931280\n",
      "14  -0.839218 -0.309212  0.331263  0.975545\n",
      "15  -0.479174 -0.185659 -1.106335 -1.196207\n",
      "16   0.812526  1.356240 -0.072010  1.003533\n",
      "17   0.361636 -0.645120  0.361396  1.538037\n",
      "18  -0.035826  1.564644 -2.619745  0.821903\n",
      "19   0.087047 -0.299007  0.091761 -1.987569\n",
      "20  -0.219672  0.357113  1.477894 -0.518270\n",
      "21  -0.808494 -0.501757  0.915402  0.328751\n",
      "22  -0.529760  0.513267  0.097078  0.968645\n",
      "23  -0.702053 -0.327662 -0.392108 -1.463515\n",
      "24   0.296120  0.261055  0.005113 -0.234587\n",
      "25  -1.415371 -0.420645 -0.342715 -0.802277\n",
      "26  -0.161286  0.404051  1.886186  0.174578\n",
      "27   0.257550 -0.074446 -1.918771 -0.026514\n",
      "28   0.060230  2.463242 -0.192361  0.301547\n",
      "29  -0.034712 -1.168678  1.142823  0.751933\n",
      "..        ...       ...       ...       ...\n",
      "370  0.722381 -0.372833  1.726964 -0.399636\n",
      "371  0.224685  0.932591 -1.418366 -1.760809\n",
      "372 -1.525656  1.262584 -0.551858  2.558199\n",
      "373 -0.564248  0.184551  1.542110  2.006093\n",
      "374  2.061504  1.208366  1.024063  0.592527\n",
      "375  0.778361 -0.551186 -0.818199 -0.003374\n",
      "376 -0.170185 -0.453228  0.696387  0.955305\n",
      "377  0.088407  1.477530 -1.141689 -0.193659\n",
      "378 -0.716822 -1.866537 -0.082681 -0.121748\n",
      "379  1.513450  0.630812 -1.024187  1.854093\n",
      "380  1.221034  0.582098 -0.226484 -0.959439\n",
      "381 -0.372207  1.088749  1.884586  1.543244\n",
      "382 -0.488849 -1.119617  0.140886 -1.768439\n",
      "383  0.323168 -0.147603 -0.466037 -1.594703\n",
      "384  0.513600 -0.532701 -1.169917 -2.872262\n",
      "385 -0.027515  1.772252  1.661259 -0.457096\n",
      "386 -0.602212  0.468774 -0.998385  0.301792\n",
      "387  0.766080  1.226933 -0.100154 -0.203674\n",
      "388 -0.877983 -0.826880 -0.226479  0.367366\n",
      "389  0.913585 -0.803179  1.492689 -0.271124\n",
      "390 -0.021367 -0.747212 -2.424240  0.884045\n",
      "391  0.736844 -0.281328  0.066991  0.515939\n",
      "392 -1.562546 -0.529053  0.794265 -1.254289\n",
      "393  0.293558 -1.356582  0.466430 -0.035641\n",
      "394 -1.615132  1.164739 -0.734592 -0.810252\n",
      "395  0.200569  1.148637 -1.015822  0.061680\n",
      "396  0.428817  0.693106  0.176442 -0.367028\n",
      "397 -0.827590  0.086144 -1.072139 -2.921350\n",
      "398  0.436560  0.903935 -2.362932 -1.009731\n",
      "399  0.619154  2.057495  0.020794 -0.728003\n",
      "\n",
      "[400 rows x 4 columns]\n"
     ]
    }
   ],
   "source": [
    "from pandas import Series, DataFrame\n",
    "import pandas as pd\n",
    "from numpy.random import randn\n",
    "import numpy as np\n",
    "np.random.seed(42)\n",
    "randomdata = DataFrame(np.random.randn(400, 4))\n",
    "print randomdata\n",
    "%matplotlib inline"
   ]
  },
  {
   "cell_type": "code",
   "execution_count": null,
   "metadata": {
    "collapsed": true
   },
   "outputs": [],
   "source": [
    "#nothing to do here"
   ]
  },
  {
   "cell_type": "markdown",
   "metadata": {},
   "source": [
    "**27) Use the \"describe\" function to summarize the randomdata created above.**"
   ]
  },
  {
   "cell_type": "code",
   "execution_count": 33,
   "metadata": {},
   "outputs": [
    {
     "name": "stdout",
     "output_type": "stream",
     "text": [
      "                0           1           2           3\n",
      "count  400.000000  400.000000  400.000000  400.000000\n",
      "mean     0.035296    0.041202    0.046713    0.035939\n",
      "std      0.924153    1.028034    0.997816    1.024632\n",
      "min     -2.650970   -2.896255   -3.241267   -2.921350\n",
      "25%     -0.612942   -0.651856   -0.602684   -0.683766\n",
      "50%      0.052292    0.037928    0.036043    0.047190\n",
      "75%      0.634986    0.676014    0.652834    0.744011\n",
      "max      2.526932    3.852731    3.078881    2.720169\n"
     ]
    }
   ],
   "source": [
    "#randomdata.describe()\n",
    "randomdata1 = randomdata.describe()\n",
    "print randomdata1"
   ]
  },
  {
   "cell_type": "markdown",
   "metadata": {},
   "source": [
    "**28) Identify the rows which contains at least one item with absolute value greater than 1**"
   ]
  },
  {
   "cell_type": "code",
   "execution_count": 35,
   "metadata": {},
   "outputs": [
    {
     "data": {
      "text/html": [
       "<div>\n",
       "<style>\n",
       "    .dataframe thead tr:only-child th {\n",
       "        text-align: right;\n",
       "    }\n",
       "\n",
       "    .dataframe thead th {\n",
       "        text-align: left;\n",
       "    }\n",
       "\n",
       "    .dataframe tbody tr th {\n",
       "        vertical-align: top;\n",
       "    }\n",
       "</style>\n",
       "<table border=\"1\" class=\"dataframe\">\n",
       "  <thead>\n",
       "    <tr style=\"text-align: right;\">\n",
       "      <th></th>\n",
       "      <th>0</th>\n",
       "      <th>1</th>\n",
       "      <th>2</th>\n",
       "      <th>3</th>\n",
       "    </tr>\n",
       "  </thead>\n",
       "  <tbody>\n",
       "    <tr>\n",
       "      <th>count</th>\n",
       "      <td>400.000000</td>\n",
       "      <td>400.000000</td>\n",
       "      <td>400.000000</td>\n",
       "      <td>400.000000</td>\n",
       "    </tr>\n",
       "    <tr>\n",
       "      <th>std</th>\n",
       "      <td>0.924153</td>\n",
       "      <td>1.028034</td>\n",
       "      <td>0.997816</td>\n",
       "      <td>1.024632</td>\n",
       "    </tr>\n",
       "    <tr>\n",
       "      <th>max</th>\n",
       "      <td>2.526932</td>\n",
       "      <td>3.852731</td>\n",
       "      <td>3.078881</td>\n",
       "      <td>2.720169</td>\n",
       "    </tr>\n",
       "  </tbody>\n",
       "</table>\n",
       "</div>"
      ],
      "text/plain": [
       "                0           1           2           3\n",
       "count  400.000000  400.000000  400.000000  400.000000\n",
       "std      0.924153    1.028034    0.997816    1.024632\n",
       "max      2.526932    3.852731    3.078881    2.720169"
      ]
     },
     "execution_count": 35,
     "metadata": {},
     "output_type": "execute_result"
    }
   ],
   "source": [
    "randomdata1[(randomdata1 >= 1).any(axis=1)]"
   ]
  },
  {
   "cell_type": "markdown",
   "metadata": {},
   "source": [
    "**29) Set the values greater than 3 to 3, and the values less than -3 to -3.  Rerun the 'describe' function to summarize the randomdata dataset.**"
   ]
  },
  {
   "cell_type": "code",
   "execution_count": 44,
   "metadata": {},
   "outputs": [
    {
     "data": {
      "text/html": [
       "<div>\n",
       "<style>\n",
       "    .dataframe thead tr:only-child th {\n",
       "        text-align: right;\n",
       "    }\n",
       "\n",
       "    .dataframe thead th {\n",
       "        text-align: left;\n",
       "    }\n",
       "\n",
       "    .dataframe tbody tr th {\n",
       "        vertical-align: top;\n",
       "    }\n",
       "</style>\n",
       "<table border=\"1\" class=\"dataframe\">\n",
       "  <thead>\n",
       "    <tr style=\"text-align: right;\">\n",
       "      <th></th>\n",
       "      <th>0</th>\n",
       "      <th>1</th>\n",
       "      <th>2</th>\n",
       "      <th>3</th>\n",
       "    </tr>\n",
       "  </thead>\n",
       "  <tbody>\n",
       "    <tr>\n",
       "      <th>count</th>\n",
       "      <td>1.0</td>\n",
       "      <td>2.000000</td>\n",
       "      <td>3.000000</td>\n",
       "      <td>1.0</td>\n",
       "    </tr>\n",
       "    <tr>\n",
       "      <th>mean</th>\n",
       "      <td>400.0</td>\n",
       "      <td>201.926366</td>\n",
       "      <td>133.279204</td>\n",
       "      <td>400.0</td>\n",
       "    </tr>\n",
       "    <tr>\n",
       "      <th>std</th>\n",
       "      <td>NaN</td>\n",
       "      <td>280.118420</td>\n",
       "      <td>231.008600</td>\n",
       "      <td>NaN</td>\n",
       "    </tr>\n",
       "    <tr>\n",
       "      <th>min</th>\n",
       "      <td>400.0</td>\n",
       "      <td>3.852731</td>\n",
       "      <td>-3.241267</td>\n",
       "      <td>400.0</td>\n",
       "    </tr>\n",
       "    <tr>\n",
       "      <th>25%</th>\n",
       "      <td>400.0</td>\n",
       "      <td>102.889549</td>\n",
       "      <td>-0.081193</td>\n",
       "      <td>400.0</td>\n",
       "    </tr>\n",
       "    <tr>\n",
       "      <th>50%</th>\n",
       "      <td>400.0</td>\n",
       "      <td>201.926366</td>\n",
       "      <td>3.078881</td>\n",
       "      <td>400.0</td>\n",
       "    </tr>\n",
       "    <tr>\n",
       "      <th>75%</th>\n",
       "      <td>400.0</td>\n",
       "      <td>300.963183</td>\n",
       "      <td>201.539440</td>\n",
       "      <td>400.0</td>\n",
       "    </tr>\n",
       "    <tr>\n",
       "      <th>max</th>\n",
       "      <td>400.0</td>\n",
       "      <td>400.000000</td>\n",
       "      <td>400.000000</td>\n",
       "      <td>400.0</td>\n",
       "    </tr>\n",
       "  </tbody>\n",
       "</table>\n",
       "</div>"
      ],
      "text/plain": [
       "           0           1           2      3\n",
       "count    1.0    2.000000    3.000000    1.0\n",
       "mean   400.0  201.926366  133.279204  400.0\n",
       "std      NaN  280.118420  231.008600    NaN\n",
       "min    400.0    3.852731   -3.241267  400.0\n",
       "25%    400.0  102.889549   -0.081193  400.0\n",
       "50%    400.0  201.926366    3.078881  400.0\n",
       "75%    400.0  300.963183  201.539440  400.0\n",
       "max    400.0  400.000000  400.000000  400.0"
      ]
     },
     "execution_count": 44,
     "metadata": {},
     "output_type": "execute_result"
    }
   ],
   "source": [
    "randomdata2 = randomdata1[(randomdata1 >=3) | (randomdata1 <=-3)]\n",
    "#print randomdata2\n",
    "randomdata2.describe()\n",
    "\n",
    "#randomdata3 = randomdata1[(randomdata1 <=-3)]\n",
    "#print randomdata3"
   ]
  },
  {
   "cell_type": "markdown",
   "metadata": {},
   "source": [
    "***Use the dataframe defined in the following cell to answer the next few questions***: "
   ]
  },
  {
   "cell_type": "code",
   "execution_count": 4,
   "metadata": {
    "scrolled": true
   },
   "outputs": [
    {
     "data": {
      "text/html": [
       "<div>\n",
       "<style>\n",
       "    .dataframe thead tr:only-child th {\n",
       "        text-align: right;\n",
       "    }\n",
       "\n",
       "    .dataframe thead th {\n",
       "        text-align: left;\n",
       "    }\n",
       "\n",
       "    .dataframe tbody tr th {\n",
       "        vertical-align: top;\n",
       "    }\n",
       "</style>\n",
       "<table border=\"1\" class=\"dataframe\">\n",
       "  <thead>\n",
       "    <tr style=\"text-align: right;\">\n",
       "      <th></th>\n",
       "      <th>GrossIn</th>\n",
       "      <th>GrossOut</th>\n",
       "      <th>NetIn</th>\n",
       "      <th>NetOut</th>\n",
       "    </tr>\n",
       "  </thead>\n",
       "  <tbody>\n",
       "    <tr>\n",
       "      <th>2015-11-29</th>\n",
       "      <td>-0.182896</td>\n",
       "      <td>1.374876</td>\n",
       "      <td>-0.645964</td>\n",
       "      <td>-0.799192</td>\n",
       "    </tr>\n",
       "    <tr>\n",
       "      <th>2015-12-06</th>\n",
       "      <td>-0.482744</td>\n",
       "      <td>-0.953329</td>\n",
       "      <td>0.122670</td>\n",
       "      <td>1.624678</td>\n",
       "    </tr>\n",
       "    <tr>\n",
       "      <th>2015-12-13</th>\n",
       "      <td>0.323079</td>\n",
       "      <td>-0.252354</td>\n",
       "      <td>-0.291811</td>\n",
       "      <td>-1.563191</td>\n",
       "    </tr>\n",
       "    <tr>\n",
       "      <th>2015-12-20</th>\n",
       "      <td>0.883110</td>\n",
       "      <td>-0.077837</td>\n",
       "      <td>-0.180480</td>\n",
       "      <td>3.193108</td>\n",
       "    </tr>\n",
       "    <tr>\n",
       "      <th>2015-12-27</th>\n",
       "      <td>0.298753</td>\n",
       "      <td>-0.751791</td>\n",
       "      <td>-0.426358</td>\n",
       "      <td>1.148446</td>\n",
       "    </tr>\n",
       "    <tr>\n",
       "      <th>2016-01-03</th>\n",
       "      <td>0.113270</td>\n",
       "      <td>-1.438278</td>\n",
       "      <td>0.919229</td>\n",
       "      <td>-0.668144</td>\n",
       "    </tr>\n",
       "    <tr>\n",
       "      <th>2016-01-10</th>\n",
       "      <td>1.873298</td>\n",
       "      <td>1.080048</td>\n",
       "      <td>-0.447322</td>\n",
       "      <td>1.281016</td>\n",
       "    </tr>\n",
       "    <tr>\n",
       "      <th>2016-01-17</th>\n",
       "      <td>0.067856</td>\n",
       "      <td>0.852774</td>\n",
       "      <td>0.484733</td>\n",
       "      <td>-0.846357</td>\n",
       "    </tr>\n",
       "    <tr>\n",
       "      <th>2016-01-24</th>\n",
       "      <td>-0.643550</td>\n",
       "      <td>1.029961</td>\n",
       "      <td>-0.334775</td>\n",
       "      <td>-0.403648</td>\n",
       "    </tr>\n",
       "    <tr>\n",
       "      <th>2016-01-31</th>\n",
       "      <td>-0.955123</td>\n",
       "      <td>0.423599</td>\n",
       "      <td>2.062525</td>\n",
       "      <td>-1.067533</td>\n",
       "    </tr>\n",
       "    <tr>\n",
       "      <th>2016-02-07</th>\n",
       "      <td>0.024219</td>\n",
       "      <td>1.412221</td>\n",
       "      <td>-0.079641</td>\n",
       "      <td>0.452372</td>\n",
       "    </tr>\n",
       "    <tr>\n",
       "      <th>2016-02-14</th>\n",
       "      <td>-1.062394</td>\n",
       "      <td>0.428307</td>\n",
       "      <td>-0.187144</td>\n",
       "      <td>0.985730</td>\n",
       "    </tr>\n",
       "    <tr>\n",
       "      <th>2016-02-21</th>\n",
       "      <td>1.187386</td>\n",
       "      <td>2.589564</td>\n",
       "      <td>0.579633</td>\n",
       "      <td>0.325796</td>\n",
       "    </tr>\n",
       "    <tr>\n",
       "      <th>2016-02-28</th>\n",
       "      <td>0.194384</td>\n",
       "      <td>-0.353166</td>\n",
       "      <td>0.338484</td>\n",
       "      <td>-0.295401</td>\n",
       "    </tr>\n",
       "    <tr>\n",
       "      <th>2016-03-06</th>\n",
       "      <td>0.168461</td>\n",
       "      <td>1.317598</td>\n",
       "      <td>-1.006543</td>\n",
       "      <td>1.139879</td>\n",
       "    </tr>\n",
       "    <tr>\n",
       "      <th>2016-03-13</th>\n",
       "      <td>1.317115</td>\n",
       "      <td>-0.118069</td>\n",
       "      <td>-2.121855</td>\n",
       "      <td>-0.607822</td>\n",
       "    </tr>\n",
       "    <tr>\n",
       "      <th>2016-03-20</th>\n",
       "      <td>1.296995</td>\n",
       "      <td>-0.022868</td>\n",
       "      <td>-0.999302</td>\n",
       "      <td>-0.504775</td>\n",
       "    </tr>\n",
       "    <tr>\n",
       "      <th>2016-03-27</th>\n",
       "      <td>0.840620</td>\n",
       "      <td>0.546734</td>\n",
       "      <td>-0.238932</td>\n",
       "      <td>-0.366824</td>\n",
       "    </tr>\n",
       "    <tr>\n",
       "      <th>2016-04-03</th>\n",
       "      <td>-0.391758</td>\n",
       "      <td>-0.922410</td>\n",
       "      <td>1.615376</td>\n",
       "      <td>-0.322320</td>\n",
       "    </tr>\n",
       "    <tr>\n",
       "      <th>2016-04-10</th>\n",
       "      <td>1.217159</td>\n",
       "      <td>1.521316</td>\n",
       "      <td>0.998311</td>\n",
       "      <td>-0.431620</td>\n",
       "    </tr>\n",
       "    <tr>\n",
       "      <th>2016-04-17</th>\n",
       "      <td>0.403730</td>\n",
       "      <td>-0.024196</td>\n",
       "      <td>-0.903702</td>\n",
       "      <td>0.324359</td>\n",
       "    </tr>\n",
       "    <tr>\n",
       "      <th>2016-04-24</th>\n",
       "      <td>-1.179040</td>\n",
       "      <td>1.187679</td>\n",
       "      <td>-0.464617</td>\n",
       "      <td>0.201160</td>\n",
       "    </tr>\n",
       "    <tr>\n",
       "      <th>2016-05-01</th>\n",
       "      <td>0.283288</td>\n",
       "      <td>-0.258905</td>\n",
       "      <td>0.586694</td>\n",
       "      <td>-0.474904</td>\n",
       "    </tr>\n",
       "    <tr>\n",
       "      <th>2016-05-08</th>\n",
       "      <td>0.871297</td>\n",
       "      <td>-1.345980</td>\n",
       "      <td>0.126380</td>\n",
       "      <td>1.938929</td>\n",
       "    </tr>\n",
       "    <tr>\n",
       "      <th>2016-05-15</th>\n",
       "      <td>-1.000331</td>\n",
       "      <td>-0.677745</td>\n",
       "      <td>0.513908</td>\n",
       "      <td>0.179582</td>\n",
       "    </tr>\n",
       "    <tr>\n",
       "      <th>2016-05-22</th>\n",
       "      <td>0.350630</td>\n",
       "      <td>0.489187</td>\n",
       "      <td>0.634721</td>\n",
       "      <td>1.109700</td>\n",
       "    </tr>\n",
       "    <tr>\n",
       "      <th>2016-05-29</th>\n",
       "      <td>0.409819</td>\n",
       "      <td>-0.241258</td>\n",
       "      <td>0.672574</td>\n",
       "      <td>1.899882</td>\n",
       "    </tr>\n",
       "    <tr>\n",
       "      <th>2016-06-05</th>\n",
       "      <td>-0.132634</td>\n",
       "      <td>-0.974529</td>\n",
       "      <td>1.107081</td>\n",
       "      <td>-0.120381</td>\n",
       "    </tr>\n",
       "    <tr>\n",
       "      <th>2016-06-12</th>\n",
       "      <td>-2.172670</td>\n",
       "      <td>0.847422</td>\n",
       "      <td>-0.535328</td>\n",
       "      <td>-0.090533</td>\n",
       "    </tr>\n",
       "    <tr>\n",
       "      <th>2016-06-19</th>\n",
       "      <td>0.331980</td>\n",
       "      <td>0.190500</td>\n",
       "      <td>0.709452</td>\n",
       "      <td>-0.435486</td>\n",
       "    </tr>\n",
       "    <tr>\n",
       "      <th>2016-06-26</th>\n",
       "      <td>0.513106</td>\n",
       "      <td>-0.259547</td>\n",
       "      <td>0.738810</td>\n",
       "      <td>0.615367</td>\n",
       "    </tr>\n",
       "    <tr>\n",
       "      <th>2016-07-03</th>\n",
       "      <td>-0.935439</td>\n",
       "      <td>1.085982</td>\n",
       "      <td>-0.535963</td>\n",
       "      <td>0.808058</td>\n",
       "    </tr>\n",
       "    <tr>\n",
       "      <th>2016-07-10</th>\n",
       "      <td>0.367287</td>\n",
       "      <td>1.838184</td>\n",
       "      <td>-0.223466</td>\n",
       "      <td>-0.349317</td>\n",
       "    </tr>\n",
       "    <tr>\n",
       "      <th>2016-07-17</th>\n",
       "      <td>-0.019420</td>\n",
       "      <td>-0.303180</td>\n",
       "      <td>0.799942</td>\n",
       "      <td>-1.616311</td>\n",
       "    </tr>\n",
       "    <tr>\n",
       "      <th>2016-07-24</th>\n",
       "      <td>-1.053682</td>\n",
       "      <td>-1.067803</td>\n",
       "      <td>0.950308</td>\n",
       "      <td>1.710613</td>\n",
       "    </tr>\n",
       "    <tr>\n",
       "      <th>2016-07-31</th>\n",
       "      <td>-0.104449</td>\n",
       "      <td>-0.168822</td>\n",
       "      <td>0.070052</td>\n",
       "      <td>1.161878</td>\n",
       "    </tr>\n",
       "    <tr>\n",
       "      <th>2016-08-07</th>\n",
       "      <td>-0.927353</td>\n",
       "      <td>0.238369</td>\n",
       "      <td>0.975198</td>\n",
       "      <td>0.501094</td>\n",
       "    </tr>\n",
       "    <tr>\n",
       "      <th>2016-08-14</th>\n",
       "      <td>0.189582</td>\n",
       "      <td>1.001046</td>\n",
       "      <td>-2.703232</td>\n",
       "      <td>0.677875</td>\n",
       "    </tr>\n",
       "    <tr>\n",
       "      <th>2016-08-21</th>\n",
       "      <td>-0.654076</td>\n",
       "      <td>-1.830633</td>\n",
       "      <td>0.511203</td>\n",
       "      <td>1.373659</td>\n",
       "    </tr>\n",
       "    <tr>\n",
       "      <th>2016-08-28</th>\n",
       "      <td>-0.137449</td>\n",
       "      <td>0.952875</td>\n",
       "      <td>1.612278</td>\n",
       "      <td>1.314914</td>\n",
       "    </tr>\n",
       "    <tr>\n",
       "      <th>2016-09-04</th>\n",
       "      <td>1.639965</td>\n",
       "      <td>0.742127</td>\n",
       "      <td>0.075434</td>\n",
       "      <td>-1.601966</td>\n",
       "    </tr>\n",
       "    <tr>\n",
       "      <th>2016-09-11</th>\n",
       "      <td>-0.246062</td>\n",
       "      <td>-0.843247</td>\n",
       "      <td>2.170943</td>\n",
       "      <td>-0.175886</td>\n",
       "    </tr>\n",
       "    <tr>\n",
       "      <th>2016-09-18</th>\n",
       "      <td>0.123205</td>\n",
       "      <td>0.551485</td>\n",
       "      <td>0.043602</td>\n",
       "      <td>1.695051</td>\n",
       "    </tr>\n",
       "    <tr>\n",
       "      <th>2016-09-25</th>\n",
       "      <td>-0.622649</td>\n",
       "      <td>0.194607</td>\n",
       "      <td>-0.742471</td>\n",
       "      <td>-1.320023</td>\n",
       "    </tr>\n",
       "    <tr>\n",
       "      <th>2016-10-02</th>\n",
       "      <td>-0.611769</td>\n",
       "      <td>-0.037037</td>\n",
       "      <td>-0.429302</td>\n",
       "      <td>-0.692421</td>\n",
       "    </tr>\n",
       "    <tr>\n",
       "      <th>2016-10-09</th>\n",
       "      <td>-1.406317</td>\n",
       "      <td>-0.083106</td>\n",
       "      <td>-1.504720</td>\n",
       "      <td>0.760056</td>\n",
       "    </tr>\n",
       "    <tr>\n",
       "      <th>2016-10-16</th>\n",
       "      <td>0.082440</td>\n",
       "      <td>-1.457551</td>\n",
       "      <td>-0.309209</td>\n",
       "      <td>-0.752156</td>\n",
       "    </tr>\n",
       "    <tr>\n",
       "      <th>2016-10-23</th>\n",
       "      <td>0.319175</td>\n",
       "      <td>1.340450</td>\n",
       "      <td>-1.875172</td>\n",
       "      <td>0.115026</td>\n",
       "    </tr>\n",
       "    <tr>\n",
       "      <th>2016-10-30</th>\n",
       "      <td>-0.160133</td>\n",
       "      <td>0.671340</td>\n",
       "      <td>0.213197</td>\n",
       "      <td>-0.751969</td>\n",
       "    </tr>\n",
       "    <tr>\n",
       "      <th>2016-11-06</th>\n",
       "      <td>-0.319054</td>\n",
       "      <td>-0.796026</td>\n",
       "      <td>1.076007</td>\n",
       "      <td>0.021312</td>\n",
       "    </tr>\n",
       "    <tr>\n",
       "      <th>2016-11-13</th>\n",
       "      <td>1.901191</td>\n",
       "      <td>-0.060661</td>\n",
       "      <td>-0.708407</td>\n",
       "      <td>-1.513714</td>\n",
       "    </tr>\n",
       "    <tr>\n",
       "      <th>2016-11-20</th>\n",
       "      <td>-1.803140</td>\n",
       "      <td>-1.584136</td>\n",
       "      <td>0.267127</td>\n",
       "      <td>0.508725</td>\n",
       "    </tr>\n",
       "    <tr>\n",
       "      <th>2016-11-27</th>\n",
       "      <td>-1.581191</td>\n",
       "      <td>0.895038</td>\n",
       "      <td>-0.483061</td>\n",
       "      <td>0.146793</td>\n",
       "    </tr>\n",
       "    <tr>\n",
       "      <th>2016-12-04</th>\n",
       "      <td>1.612221</td>\n",
       "      <td>0.896839</td>\n",
       "      <td>-0.268531</td>\n",
       "      <td>-0.891192</td>\n",
       "    </tr>\n",
       "    <tr>\n",
       "      <th>2016-12-11</th>\n",
       "      <td>-2.151815</td>\n",
       "      <td>-0.719153</td>\n",
       "      <td>-0.211130</td>\n",
       "      <td>-0.987180</td>\n",
       "    </tr>\n",
       "    <tr>\n",
       "      <th>2016-12-18</th>\n",
       "      <td>-0.131257</td>\n",
       "      <td>0.076852</td>\n",
       "      <td>-0.224856</td>\n",
       "      <td>-0.650003</td>\n",
       "    </tr>\n",
       "    <tr>\n",
       "      <th>2016-12-25</th>\n",
       "      <td>0.168655</td>\n",
       "      <td>0.441941</td>\n",
       "      <td>-1.090399</td>\n",
       "      <td>1.410932</td>\n",
       "    </tr>\n",
       "    <tr>\n",
       "      <th>2017-01-01</th>\n",
       "      <td>-0.098588</td>\n",
       "      <td>0.018850</td>\n",
       "      <td>0.708214</td>\n",
       "      <td>0.233216</td>\n",
       "    </tr>\n",
       "    <tr>\n",
       "      <th>2017-01-08</th>\n",
       "      <td>0.953137</td>\n",
       "      <td>0.287124</td>\n",
       "      <td>-0.612437</td>\n",
       "      <td>0.361504</td>\n",
       "    </tr>\n",
       "  </tbody>\n",
       "</table>\n",
       "</div>"
      ],
      "text/plain": [
       "             GrossIn  GrossOut     NetIn    NetOut\n",
       "2015-11-29 -0.182896  1.374876 -0.645964 -0.799192\n",
       "2015-12-06 -0.482744 -0.953329  0.122670  1.624678\n",
       "2015-12-13  0.323079 -0.252354 -0.291811 -1.563191\n",
       "2015-12-20  0.883110 -0.077837 -0.180480  3.193108\n",
       "2015-12-27  0.298753 -0.751791 -0.426358  1.148446\n",
       "2016-01-03  0.113270 -1.438278  0.919229 -0.668144\n",
       "2016-01-10  1.873298  1.080048 -0.447322  1.281016\n",
       "2016-01-17  0.067856  0.852774  0.484733 -0.846357\n",
       "2016-01-24 -0.643550  1.029961 -0.334775 -0.403648\n",
       "2016-01-31 -0.955123  0.423599  2.062525 -1.067533\n",
       "2016-02-07  0.024219  1.412221 -0.079641  0.452372\n",
       "2016-02-14 -1.062394  0.428307 -0.187144  0.985730\n",
       "2016-02-21  1.187386  2.589564  0.579633  0.325796\n",
       "2016-02-28  0.194384 -0.353166  0.338484 -0.295401\n",
       "2016-03-06  0.168461  1.317598 -1.006543  1.139879\n",
       "2016-03-13  1.317115 -0.118069 -2.121855 -0.607822\n",
       "2016-03-20  1.296995 -0.022868 -0.999302 -0.504775\n",
       "2016-03-27  0.840620  0.546734 -0.238932 -0.366824\n",
       "2016-04-03 -0.391758 -0.922410  1.615376 -0.322320\n",
       "2016-04-10  1.217159  1.521316  0.998311 -0.431620\n",
       "2016-04-17  0.403730 -0.024196 -0.903702  0.324359\n",
       "2016-04-24 -1.179040  1.187679 -0.464617  0.201160\n",
       "2016-05-01  0.283288 -0.258905  0.586694 -0.474904\n",
       "2016-05-08  0.871297 -1.345980  0.126380  1.938929\n",
       "2016-05-15 -1.000331 -0.677745  0.513908  0.179582\n",
       "2016-05-22  0.350630  0.489187  0.634721  1.109700\n",
       "2016-05-29  0.409819 -0.241258  0.672574  1.899882\n",
       "2016-06-05 -0.132634 -0.974529  1.107081 -0.120381\n",
       "2016-06-12 -2.172670  0.847422 -0.535328 -0.090533\n",
       "2016-06-19  0.331980  0.190500  0.709452 -0.435486\n",
       "2016-06-26  0.513106 -0.259547  0.738810  0.615367\n",
       "2016-07-03 -0.935439  1.085982 -0.535963  0.808058\n",
       "2016-07-10  0.367287  1.838184 -0.223466 -0.349317\n",
       "2016-07-17 -0.019420 -0.303180  0.799942 -1.616311\n",
       "2016-07-24 -1.053682 -1.067803  0.950308  1.710613\n",
       "2016-07-31 -0.104449 -0.168822  0.070052  1.161878\n",
       "2016-08-07 -0.927353  0.238369  0.975198  0.501094\n",
       "2016-08-14  0.189582  1.001046 -2.703232  0.677875\n",
       "2016-08-21 -0.654076 -1.830633  0.511203  1.373659\n",
       "2016-08-28 -0.137449  0.952875  1.612278  1.314914\n",
       "2016-09-04  1.639965  0.742127  0.075434 -1.601966\n",
       "2016-09-11 -0.246062 -0.843247  2.170943 -0.175886\n",
       "2016-09-18  0.123205  0.551485  0.043602  1.695051\n",
       "2016-09-25 -0.622649  0.194607 -0.742471 -1.320023\n",
       "2016-10-02 -0.611769 -0.037037 -0.429302 -0.692421\n",
       "2016-10-09 -1.406317 -0.083106 -1.504720  0.760056\n",
       "2016-10-16  0.082440 -1.457551 -0.309209 -0.752156\n",
       "2016-10-23  0.319175  1.340450 -1.875172  0.115026\n",
       "2016-10-30 -0.160133  0.671340  0.213197 -0.751969\n",
       "2016-11-06 -0.319054 -0.796026  1.076007  0.021312\n",
       "2016-11-13  1.901191 -0.060661 -0.708407 -1.513714\n",
       "2016-11-20 -1.803140 -1.584136  0.267127  0.508725\n",
       "2016-11-27 -1.581191  0.895038 -0.483061  0.146793\n",
       "2016-12-04  1.612221  0.896839 -0.268531 -0.891192\n",
       "2016-12-11 -2.151815 -0.719153 -0.211130 -0.987180\n",
       "2016-12-18 -0.131257  0.076852 -0.224856 -0.650003\n",
       "2016-12-25  0.168655  0.441941 -1.090399  1.410932\n",
       "2017-01-01 -0.098588  0.018850  0.708214  0.233216\n",
       "2017-01-08  0.953137  0.287124 -0.612437  0.361504"
      ]
     },
     "execution_count": 4,
     "metadata": {},
     "output_type": "execute_result"
    }
   ],
   "source": [
    "df2 = pd.DataFrame(np.random.randn(59,4))\n",
    "cols = ['GrossIn', 'GrossOut', 'NetIn', 'NetOut']\n",
    "df2.columns = cols\n",
    "dates = pd.date_range(start='2015-11-29', freq='W', periods=59)\n",
    "df2.index = dates\n",
    "df2"
   ]
  },
  {
   "cell_type": "markdown",
   "metadata": {},
   "source": [
    "**30) Print all the data from 2016-06-19 to 2016-10-20 in df2 above.**"
   ]
  },
  {
   "cell_type": "code",
   "execution_count": 45,
   "metadata": {},
   "outputs": [
    {
     "name": "stdout",
     "output_type": "stream",
     "text": [
      "             GrossIn  GrossOut     NetIn    NetOut\n",
      "2016-06-19  0.331980  0.190500  0.709452 -0.435486\n",
      "2016-06-26  0.513106 -0.259547  0.738810  0.615367\n",
      "2016-07-03 -0.935439  1.085982 -0.535963  0.808058\n",
      "2016-07-10  0.367287  1.838184 -0.223466 -0.349317\n",
      "2016-07-17 -0.019420 -0.303180  0.799942 -1.616311\n",
      "2016-07-24 -1.053682 -1.067803  0.950308  1.710613\n",
      "2016-07-31 -0.104449 -0.168822  0.070052  1.161878\n",
      "2016-08-07 -0.927353  0.238369  0.975198  0.501094\n",
      "2016-08-14  0.189582  1.001046 -2.703232  0.677875\n",
      "2016-08-21 -0.654076 -1.830633  0.511203  1.373659\n",
      "2016-08-28 -0.137449  0.952875  1.612278  1.314914\n",
      "2016-09-04  1.639965  0.742127  0.075434 -1.601966\n",
      "2016-09-11 -0.246062 -0.843247  2.170943 -0.175886\n",
      "2016-09-18  0.123205  0.551485  0.043602  1.695051\n",
      "2016-09-25 -0.622649  0.194607 -0.742471 -1.320023\n",
      "2016-10-02 -0.611769 -0.037037 -0.429302 -0.692421\n",
      "2016-10-09 -1.406317 -0.083106 -1.504720  0.760056\n",
      "2016-10-16  0.082440 -1.457551 -0.309209 -0.752156\n"
     ]
    }
   ],
   "source": [
    "print(df2.loc['2016-06-19':'2016-10-20'])"
   ]
  },
  {
   "cell_type": "markdown",
   "metadata": {},
   "source": [
    "**31) What was the GrossIn and NetIn for 2016-09-18? Print the results. **"
   ]
  },
  {
   "cell_type": "code",
   "execution_count": 72,
   "metadata": {},
   "outputs": [
    {
     "data": {
      "text/plain": [
       "GrossIn    0.123205\n",
       "NetIn      0.043602\n",
       "Name: 2016-09-18 00:00:00, dtype: float64"
      ]
     },
     "execution_count": 72,
     "metadata": {},
     "output_type": "execute_result"
    }
   ],
   "source": [
    "df2.loc['2016-09-18', ['GrossIn', 'NetIn']]\n",
    "#print df2.loc[['2016-09-18'], df2.columns.get_indexer_for('GrossIn')]"
   ]
  },
  {
   "cell_type": "markdown",
   "metadata": {},
   "source": [
    "**32) Sum all the GrossOut and NetOut for the month of March 2016 in df2. Print the results. **"
   ]
  },
  {
   "cell_type": "code",
   "execution_count": 26,
   "metadata": {},
   "outputs": [
    {
     "name": "stdout",
     "output_type": "stream",
     "text": [
      "The total GrossOut for March 2016 was = 1.723395\n",
      "The total NetOut for March 2016 was = -0.339543\n"
     ]
    }
   ],
   "source": [
    "TotalGrossOut = 0\n",
    "TotalNetOut = 0\n",
    "\n",
    "pop_df_1 = df2[(df2.index >= '2016-03-01') & (df2.index <= '2016-03-31')] #new dataframe to capture march dates only\n",
    "#print pop_df_1\n",
    "#pop_df_1.dtypes\n",
    "\n",
    "TotalGrossOut = sum(pop_df_1.GrossOut) #sum of grossout for march\n",
    "TotalNetOut = sum(pop_df_1.NetOut) #sume of netout for march\n",
    "print (\"The total GrossOut for March 2016 was = %f\" %TotalGrossOut)\n",
    "print (\"The total NetOut for March 2016 was = %f\" %TotalNetOut)\n"
   ]
  },
  {
   "cell_type": "markdown",
   "metadata": {},
   "source": [
    "**33) Find all the days GrossOut was greater than GrossIn in df2. Print the results.**"
   ]
  },
  {
   "cell_type": "code",
   "execution_count": 25,
   "metadata": {},
   "outputs": [
    {
     "name": "stdout",
     "output_type": "stream",
     "text": [
      "DatetimeIndex(['2015-11-29', '2016-01-17', '2016-01-24', '2016-01-31',\n",
      "               '2016-02-07', '2016-02-14', '2016-02-21', '2016-03-06',\n",
      "               '2016-04-10', '2016-04-24', '2016-05-15', '2016-05-22',\n",
      "               '2016-06-12', '2016-07-03', '2016-07-10', '2016-08-07',\n",
      "               '2016-08-14', '2016-08-28', '2016-09-18', '2016-09-25',\n",
      "               '2016-10-02', '2016-10-09', '2016-10-23', '2016-10-30',\n",
      "               '2016-11-20', '2016-11-27', '2016-12-11', '2016-12-18',\n",
      "               '2016-12-25', '2017-01-01'],\n",
      "              dtype='datetime64[ns]', freq=None)\n"
     ]
    }
   ],
   "source": [
    "pop_df_2 = df2[df2.GrossOut > df2.GrossIn]\n",
    "print pop_df_2.index"
   ]
  },
  {
   "cell_type": "markdown",
   "metadata": {},
   "source": [
    "**34) What percentage was the total NetOut of the total NetIn in the year 2016 from df2 above? **"
   ]
  },
  {
   "cell_type": "code",
   "execution_count": 30,
   "metadata": {},
   "outputs": [
    {
     "name": "stdout",
     "output_type": "stream",
     "text": [
      "993.421564129\n"
     ]
    }
   ],
   "source": [
    "percentage = 0.0\n",
    "TotalNetOut = 0.0\n",
    "TotalNetIn = 0.0\n",
    "\n",
    "TotalNetOut = sum(df2.NetOut)\n",
    "TotalNetIn = sum(df2.NetIn)\n",
    "percentage = (TotalNetOut / TotalNetIn) * 100\n",
    "print percentage\n",
    "\n"
   ]
  },
  {
   "cell_type": "markdown",
   "metadata": {},
   "source": [
    "**35) Plot values for 2016 on a line graph for the GrossOut and GrossIn in df2:**"
   ]
  },
  {
   "cell_type": "code",
   "execution_count": 39,
   "metadata": {},
   "outputs": [
    {
     "data": {
      "text/plain": [
       "<matplotlib.axes._subplots.AxesSubplot at 0x7fbcd0b377d0>"
      ]
     },
     "execution_count": 39,
     "metadata": {},
     "output_type": "execute_result"
    },
    {
     "data": {
      "image/png": "[encoded data removed]",
      "text/plain": [
       "<matplotlib.figure.Figure at 0x7fbcd0e36a90>"
      ]
     },
     "metadata": {},
     "output_type": "display_data"
    }
   ],
   "source": [
    "pop_df_3 = df2[(df2.index >= '2016-01-01') & (df2.index <= '2016-12-31')]\n",
    "#pop_df_3.index\n",
    "\n",
    "pop_df_3['GrossOut'].plot(kind='line', color='g')\n",
    "pop_df_3['GrossIn'].plot(kind='line', color='r')"
   ]
  },
  {
   "cell_type": "markdown",
   "metadata": {},
   "source": [
    "**36) Plot 4 different HISTOGRAMS of df2.GrossIn each having 5,10,15,20 bins.**<br> \n",
    "Hint: use the following code  to plot the histograms on different subplots. <br> \n",
    "\n",
    "import matplotlib.pyplot as plt<br> \n",
    "fig, ax = plt.subplots(nrows=2, ncols=2)<br> \n",
    "dataframe.plot(ax=ax[0,0])# this is just an example of how to plot on a top right subplot (2x2)"
   ]
  },
  {
   "cell_type": "code",
   "execution_count": 54,
   "metadata": {},
   "outputs": [
    {
     "data": {
      "text/plain": [
       "<matplotlib.axes._subplots.AxesSubplot at 0x7fbcd1108bd0>"
      ]
     },
     "execution_count": 54,
     "metadata": {},
     "output_type": "execute_result"
    },
    {
     "data": {
      "image/png": "[encoded data removed]",
      "text/plain": [
       "<matplotlib.figure.Figure at 0x7fbccf6774d0>"
      ]
     },
     "metadata": {},
     "output_type": "display_data"
    }
   ],
   "source": [
    "import matplotlib.pyplot as plt\n",
    "fig, ax = plt.subplots(nrows=2, ncols=2)\n",
    "df2['GrossIn'].plot(ax=ax[0,0], kind='hist', bins=5)# this is just an example of how to plot on a top right subplot (2x2)\n",
    "df2['GrossIn'].plot(ax=ax[0,1], kind='hist', bins=10)\n",
    "df2['GrossIn'].plot(ax=ax[1,0], kind='hist', bins=15)\n",
    "df2['GrossIn'].plot(ax=ax[1,1], kind='hist', bins=20)\n"
   ]
  },
  {
   "cell_type": "markdown",
   "metadata": {},
   "source": [
    "**37) What is your favorite pizza topping? None is not a valid answer. I don't care if you are off gluten.**"
   ]
  },
  {
   "cell_type": "markdown",
   "metadata": {
    "collapsed": true
   },
   "source": [
    "***ONIONS.....ONIONS.....EXTRA ONIONS"
   ]
  },
  {
   "cell_type": "markdown",
   "metadata": {},
   "source": [
    "**38) Import pandas libary with the alias pd**"
   ]
  },
  {
   "cell_type": "code",
   "execution_count": 28,
   "metadata": {
    "collapsed": true
   },
   "outputs": [],
   "source": [
    "import pandas as pd"
   ]
  },
  {
   "cell_type": "markdown",
   "metadata": {},
   "source": [
    "**39)You are given the Medicare spending dataset. Read it into a pandas dataframe. Then remove the 2 unused columns 'Measure Start Date' and 'Measure End Date' from the DataFrame all in the following cell. Provide your code as the answer. **\n",
    "\n",
    "***You need to put the data file ‘Medicare_Hospital_Spending_by_Claim.csv’ at the same place as your notebook file.***\n",
    "\n"
   ]
  },
  {
   "cell_type": "code",
   "execution_count": 2,
   "metadata": {
    "collapsed": true
   },
   "outputs": [],
   "source": [
    "df_3_test = pd.read_csv('Medicare_Hospital_Spending_by_Claim.csv')\n",
    "df_4_test = df_3_test.drop(df_3_test.columns[[11, 12]], 1)\n",
    "# df_4_test.dtypes\n"
   ]
  },
  {
   "cell_type": "markdown",
   "metadata": {},
   "source": [
    "**40) Replace columns names...replace the original long column names in the dataframe above (Q - 39) with shorter ones provided below in \"newColumns\".  Provide your code and the resulting new column names as the answer.**\n",
    "<br/>\n",
    "newColumns = ['Hospital', 'Provider ID', 'State', 'Period', 'Claim Type', 'Avg Spending Hospital', 'Avg Spending State', 'Avg Spending Nation', 'Percent Spending Hospital', 'Percent Spending State', 'Percent Spending Nation']"
   ]
  },
  {
   "cell_type": "code",
   "execution_count": 3,
   "metadata": {},
   "outputs": [
    {
     "name": "stdout",
     "output_type": "stream",
     "text": [
      "                                    Hospital  Provider ID State  \\\n",
      "0           SOUTHEAST ALABAMA MEDICAL CENTER        10001    AL   \n",
      "1           SOUTHEAST ALABAMA MEDICAL CENTER        10001    AL   \n",
      "2           SOUTHEAST ALABAMA MEDICAL CENTER        10001    AL   \n",
      "3           SOUTHEAST ALABAMA MEDICAL CENTER        10001    AL   \n",
      "4           SOUTHEAST ALABAMA MEDICAL CENTER        10001    AL   \n",
      "5           SOUTHEAST ALABAMA MEDICAL CENTER        10001    AL   \n",
      "6           SOUTHEAST ALABAMA MEDICAL CENTER        10001    AL   \n",
      "7           SOUTHEAST ALABAMA MEDICAL CENTER        10001    AL   \n",
      "8           SOUTHEAST ALABAMA MEDICAL CENTER        10001    AL   \n",
      "9           SOUTHEAST ALABAMA MEDICAL CENTER        10001    AL   \n",
      "10          SOUTHEAST ALABAMA MEDICAL CENTER        10001    AL   \n",
      "11          SOUTHEAST ALABAMA MEDICAL CENTER        10001    AL   \n",
      "12          SOUTHEAST ALABAMA MEDICAL CENTER        10001    AL   \n",
      "13          SOUTHEAST ALABAMA MEDICAL CENTER        10001    AL   \n",
      "14          SOUTHEAST ALABAMA MEDICAL CENTER        10001    AL   \n",
      "15          SOUTHEAST ALABAMA MEDICAL CENTER        10001    AL   \n",
      "16          SOUTHEAST ALABAMA MEDICAL CENTER        10001    AL   \n",
      "17          SOUTHEAST ALABAMA MEDICAL CENTER        10001    AL   \n",
      "18          SOUTHEAST ALABAMA MEDICAL CENTER        10001    AL   \n",
      "19          SOUTHEAST ALABAMA MEDICAL CENTER        10001    AL   \n",
      "20          SOUTHEAST ALABAMA MEDICAL CENTER        10001    AL   \n",
      "21          SOUTHEAST ALABAMA MEDICAL CENTER        10001    AL   \n",
      "22                  MARSHALL MEDICAL CENTERS        10005    AL   \n",
      "23                  MARSHALL MEDICAL CENTERS        10005    AL   \n",
      "24                  MARSHALL MEDICAL CENTERS        10005    AL   \n",
      "25                  MARSHALL MEDICAL CENTERS        10005    AL   \n",
      "26                  MARSHALL MEDICAL CENTERS        10005    AL   \n",
      "27                  MARSHALL MEDICAL CENTERS        10005    AL   \n",
      "28                  MARSHALL MEDICAL CENTERS        10005    AL   \n",
      "29                  MARSHALL MEDICAL CENTERS        10005    AL   \n",
      "...                                      ...          ...   ...   \n",
      "70568  BAY AREA REGIONAL MEDICAL CENTER, LLC       670096    TX   \n",
      "70569  BAY AREA REGIONAL MEDICAL CENTER, LLC       670096    TX   \n",
      "70570  BAY AREA REGIONAL MEDICAL CENTER, LLC       670096    TX   \n",
      "70571  BAY AREA REGIONAL MEDICAL CENTER, LLC       670096    TX   \n",
      "70572  BAY AREA REGIONAL MEDICAL CENTER, LLC       670096    TX   \n",
      "70573  BAY AREA REGIONAL MEDICAL CENTER, LLC       670096    TX   \n",
      "70574  BAY AREA REGIONAL MEDICAL CENTER, LLC       670096    TX   \n",
      "70575  BAY AREA REGIONAL MEDICAL CENTER, LLC       670096    TX   \n",
      "70576               RESOLUTE HEALTH HOSPITAL       670098    TX   \n",
      "70577               RESOLUTE HEALTH HOSPITAL       670098    TX   \n",
      "70578               RESOLUTE HEALTH HOSPITAL       670098    TX   \n",
      "70579               RESOLUTE HEALTH HOSPITAL       670098    TX   \n",
      "70580               RESOLUTE HEALTH HOSPITAL       670098    TX   \n",
      "70581               RESOLUTE HEALTH HOSPITAL       670098    TX   \n",
      "70582               RESOLUTE HEALTH HOSPITAL       670098    TX   \n",
      "70583               RESOLUTE HEALTH HOSPITAL       670098    TX   \n",
      "70584               RESOLUTE HEALTH HOSPITAL       670098    TX   \n",
      "70585               RESOLUTE HEALTH HOSPITAL       670098    TX   \n",
      "70586               RESOLUTE HEALTH HOSPITAL       670098    TX   \n",
      "70587               RESOLUTE HEALTH HOSPITAL       670098    TX   \n",
      "70588               RESOLUTE HEALTH HOSPITAL       670098    TX   \n",
      "70589               RESOLUTE HEALTH HOSPITAL       670098    TX   \n",
      "70590               RESOLUTE HEALTH HOSPITAL       670098    TX   \n",
      "70591               RESOLUTE HEALTH HOSPITAL       670098    TX   \n",
      "70592               RESOLUTE HEALTH HOSPITAL       670098    TX   \n",
      "70593               RESOLUTE HEALTH HOSPITAL       670098    TX   \n",
      "70594               RESOLUTE HEALTH HOSPITAL       670098    TX   \n",
      "70595               RESOLUTE HEALTH HOSPITAL       670098    TX   \n",
      "70596               RESOLUTE HEALTH HOSPITAL       670098    TX   \n",
      "70597               RESOLUTE HEALTH HOSPITAL       670098    TX   \n",
      "\n",
      "                                                  Period  \\\n",
      "0          1 to 3 days Prior to Index Hospital Admission   \n",
      "1          1 to 3 days Prior to Index Hospital Admission   \n",
      "2          1 to 3 days Prior to Index Hospital Admission   \n",
      "3          1 to 3 days Prior to Index Hospital Admission   \n",
      "4          1 to 3 days Prior to Index Hospital Admission   \n",
      "5          1 to 3 days Prior to Index Hospital Admission   \n",
      "6          1 to 3 days Prior to Index Hospital Admission   \n",
      "7                        During Index Hospital Admission   \n",
      "8                        During Index Hospital Admission   \n",
      "9                        During Index Hospital Admission   \n",
      "10                       During Index Hospital Admission   \n",
      "11                       During Index Hospital Admission   \n",
      "12                       During Index Hospital Admission   \n",
      "13                       During Index Hospital Admission   \n",
      "14     1 through 30 days After Discharge from Index H...   \n",
      "15     1 through 30 days After Discharge from Index H...   \n",
      "16     1 through 30 days After Discharge from Index H...   \n",
      "17     1 through 30 days After Discharge from Index H...   \n",
      "18     1 through 30 days After Discharge from Index H...   \n",
      "19     1 through 30 days After Discharge from Index H...   \n",
      "20     1 through 30 days After Discharge from Index H...   \n",
      "21                                      Complete Episode   \n",
      "22         1 to 3 days Prior to Index Hospital Admission   \n",
      "23         1 to 3 days Prior to Index Hospital Admission   \n",
      "24         1 to 3 days Prior to Index Hospital Admission   \n",
      "25         1 to 3 days Prior to Index Hospital Admission   \n",
      "26         1 to 3 days Prior to Index Hospital Admission   \n",
      "27         1 to 3 days Prior to Index Hospital Admission   \n",
      "28         1 to 3 days Prior to Index Hospital Admission   \n",
      "29                       During Index Hospital Admission   \n",
      "...                                                  ...   \n",
      "70568  1 through 30 days After Discharge from Index H...   \n",
      "70569  1 through 30 days After Discharge from Index H...   \n",
      "70570  1 through 30 days After Discharge from Index H...   \n",
      "70571  1 through 30 days After Discharge from Index H...   \n",
      "70572  1 through 30 days After Discharge from Index H...   \n",
      "70573  1 through 30 days After Discharge from Index H...   \n",
      "70574  1 through 30 days After Discharge from Index H...   \n",
      "70575                                   Complete Episode   \n",
      "70576      1 to 3 days Prior to Index Hospital Admission   \n",
      "70577      1 to 3 days Prior to Index Hospital Admission   \n",
      "70578      1 to 3 days Prior to Index Hospital Admission   \n",
      "70579      1 to 3 days Prior to Index Hospital Admission   \n",
      "70580      1 to 3 days Prior to Index Hospital Admission   \n",
      "70581      1 to 3 days Prior to Index Hospital Admission   \n",
      "70582      1 to 3 days Prior to Index Hospital Admission   \n",
      "70583                    During Index Hospital Admission   \n",
      "70584                    During Index Hospital Admission   \n",
      "70585                    During Index Hospital Admission   \n",
      "70586                    During Index Hospital Admission   \n",
      "70587                    During Index Hospital Admission   \n",
      "70588                    During Index Hospital Admission   \n",
      "70589                    During Index Hospital Admission   \n",
      "70590  1 through 30 days After Discharge from Index H...   \n",
      "70591  1 through 30 days After Discharge from Index H...   \n",
      "70592  1 through 30 days After Discharge from Index H...   \n",
      "70593  1 through 30 days After Discharge from Index H...   \n",
      "70594  1 through 30 days After Discharge from Index H...   \n",
      "70595  1 through 30 days After Discharge from Index H...   \n",
      "70596  1 through 30 days After Discharge from Index H...   \n",
      "70597                                   Complete Episode   \n",
      "\n",
      "                      Claim Type Avg Spending Hospital Avg Spending State  \\\n",
      "0             Home Health Agency                   $12                $14   \n",
      "1                        Hospice                    $1                 $1   \n",
      "2                      Inpatient                    $6                 $6   \n",
      "3                     Outpatient                  $160                $85   \n",
      "4       Skilled Nursing Facility                    $1                 $2   \n",
      "5      Durable Medical Equipment                    $6                 $9   \n",
      "6                        Carrier                  $462               $492   \n",
      "7             Home Health Agency                    $0                 $0   \n",
      "8                        Hospice                    $0                 $0   \n",
      "9                      Inpatient                 $8981              $8723   \n",
      "10                    Outpatient                    $0                 $0   \n",
      "11      Skilled Nursing Facility                    $0                 $0   \n",
      "12     Durable Medical Equipment                   $27                $32   \n",
      "13                       Carrier                 $1587              $1435   \n",
      "14            Home Health Agency                  $988               $898   \n",
      "15                       Hospice                  $137               $141   \n",
      "16                     Inpatient                 $2943              $2607   \n",
      "17                    Outpatient                  $654               $596   \n",
      "18      Skilled Nursing Facility                 $1946              $2437   \n",
      "19     Durable Medical Equipment                  $141               $124   \n",
      "20                       Carrier                  $974               $995   \n",
      "21                         Total                $19025             $18597   \n",
      "22            Home Health Agency                   $19                $14   \n",
      "23                       Hospice                    $0                 $1   \n",
      "24                     Inpatient                    $0                 $6   \n",
      "25                    Outpatient                   $91                $85   \n",
      "26      Skilled Nursing Facility                    $1                 $2   \n",
      "27     Durable Medical Equipment                    $6                 $9   \n",
      "28                       Carrier                  $446               $492   \n",
      "29            Home Health Agency                    $0                 $0   \n",
      "...                          ...                   ...                ...   \n",
      "70568         Home Health Agency                  $615               $858   \n",
      "70569                    Hospice                   $25               $145   \n",
      "70570                  Inpatient                 $5390              $3975   \n",
      "70571                 Outpatient                  $443               $710   \n",
      "70572   Skilled Nursing Facility                 $2395              $2903   \n",
      "70573  Durable Medical Equipment                   $83               $114   \n",
      "70574                    Carrier                 $1428              $1231   \n",
      "70575                      Total                $20058             $21484   \n",
      "70576         Home Health Agency                    $0                $23   \n",
      "70577                    Hospice                    $0                 $1   \n",
      "70578                  Inpatient                    $0                 $5   \n",
      "70579                 Outpatient                   $89               $122   \n",
      "70580   Skilled Nursing Facility                    $0                 $3   \n",
      "70581  Durable Medical Equipment                    $0                 $9   \n",
      "70582                    Carrier                  $565               $585   \n",
      "70583         Home Health Agency                    $0                 $0   \n",
      "70584                    Hospice                    $0                 $0   \n",
      "70585                  Inpatient                 $5693              $9227   \n",
      "70586                 Outpatient                    $0                 $0   \n",
      "70587   Skilled Nursing Facility                    $0                 $0   \n",
      "70588  Durable Medical Equipment                   $11                $30   \n",
      "70589                    Carrier                  $581              $1543   \n",
      "70590         Home Health Agency                 $1305               $858   \n",
      "70591                    Hospice                    $0               $145   \n",
      "70592                  Inpatient                 $2738              $3975   \n",
      "70593                 Outpatient                  $817               $710   \n",
      "70594   Skilled Nursing Facility                 $4539              $2903   \n",
      "70595  Durable Medical Equipment                   $61               $114   \n",
      "70596                    Carrier                 $1168              $1231   \n",
      "70597                      Total                $17568             $21484   \n",
      "\n",
      "      Avg Spending Nation Percent Spending Hospital Percent Spending State  \\\n",
      "0                     $13                     0.06%                  0.07%   \n",
      "1                      $1                     0.01%                  0.01%   \n",
      "2                      $5                     0.03%                  0.03%   \n",
      "3                    $117                     0.84%                  0.46%   \n",
      "4                      $2                     0.01%                  0.01%   \n",
      "5                      $9                     0.03%                  0.05%   \n",
      "6                    $532                     2.43%                  2.65%   \n",
      "7                      $0                        0%                     0%   \n",
      "8                      $0                        0%                     0%   \n",
      "9                   $9108                    47.21%                 46.91%   \n",
      "10                     $0                        0%                     0%   \n",
      "11                     $0                        0%                     0%   \n",
      "12                    $24                     0.14%                  0.17%   \n",
      "13                  $1514                     8.34%                  7.71%   \n",
      "14                   $771                      5.2%                  4.83%   \n",
      "15                   $118                     0.72%                  0.76%   \n",
      "16                  $2665                    15.47%                 14.02%   \n",
      "17                   $710                     3.44%                   3.2%   \n",
      "18                  $3251                    10.23%                  13.1%   \n",
      "19                   $101                     0.74%                  0.67%   \n",
      "20                  $1083                     5.12%                  5.35%   \n",
      "21                 $20025                      100%                   100%   \n",
      "22                    $13                     0.12%                  0.07%   \n",
      "23                     $1                        0%                  0.01%   \n",
      "24                     $5                        0%                  0.03%   \n",
      "25                   $117                     0.55%                  0.46%   \n",
      "26                     $2                        0%                  0.01%   \n",
      "27                     $9                     0.03%                  0.05%   \n",
      "28                   $532                     2.69%                  2.65%   \n",
      "29                     $0                        0%                     0%   \n",
      "...                   ...                       ...                    ...   \n",
      "70568                $771                     3.07%                  3.99%   \n",
      "70569                $118                     0.12%                  0.67%   \n",
      "70570               $2665                    26.87%                  18.5%   \n",
      "70571                $710                     2.21%                  3.31%   \n",
      "70572               $3251                    11.94%                 13.51%   \n",
      "70573                $101                     0.41%                  0.53%   \n",
      "70574               $1083                     7.12%                  5.73%   \n",
      "70575              $20025                      100%                   100%   \n",
      "70576                 $13                        0%                  0.11%   \n",
      "70577                  $1                        0%                  0.01%   \n",
      "70578                  $5                        0%                  0.02%   \n",
      "70579                $117                     0.51%                  0.57%   \n",
      "70580                  $2                        0%                  0.01%   \n",
      "70581                  $9                        0%                  0.04%   \n",
      "70582                $532                     3.22%                  2.72%   \n",
      "70583                  $0                        0%                     0%   \n",
      "70584                  $0                        0%                     0%   \n",
      "70585               $9108                    32.41%                 42.95%   \n",
      "70586                  $0                        0%                     0%   \n",
      "70587                  $0                        0%                     0%   \n",
      "70588                 $24                     0.06%                  0.14%   \n",
      "70589               $1514                     3.31%                  7.18%   \n",
      "70590                $771                     7.43%                  3.99%   \n",
      "70591                $118                        0%                  0.67%   \n",
      "70592               $2665                    15.59%                  18.5%   \n",
      "70593                $710                     4.65%                  3.31%   \n",
      "70594               $3251                    25.83%                 13.51%   \n",
      "70595                $101                     0.35%                  0.53%   \n",
      "70596               $1083                     6.65%                  5.73%   \n",
      "70597              $20025                      100%                   100%   \n",
      "\n",
      "      Percent Spending Nation  \n",
      "0                       0.07%  \n",
      "1                          0%  \n",
      "2                       0.03%  \n",
      "3                       0.58%  \n",
      "4                       0.01%  \n",
      "5                       0.04%  \n",
      "6                       2.66%  \n",
      "7                          0%  \n",
      "8                          0%  \n",
      "9                      45.48%  \n",
      "10                         0%  \n",
      "11                         0%  \n",
      "12                      0.12%  \n",
      "13                      7.56%  \n",
      "14                      3.85%  \n",
      "15                      0.59%  \n",
      "16                     13.31%  \n",
      "17                      3.54%  \n",
      "18                     16.23%  \n",
      "19                       0.5%  \n",
      "20                      5.41%  \n",
      "21                       100%  \n",
      "22                      0.07%  \n",
      "23                         0%  \n",
      "24                      0.03%  \n",
      "25                      0.58%  \n",
      "26                      0.01%  \n",
      "27                      0.04%  \n",
      "28                      2.66%  \n",
      "29                         0%  \n",
      "...                       ...  \n",
      "70568                   3.85%  \n",
      "70569                   0.59%  \n",
      "70570                  13.31%  \n",
      "70571                   3.54%  \n",
      "70572                  16.23%  \n",
      "70573                    0.5%  \n",
      "70574                   5.41%  \n",
      "70575                    100%  \n",
      "70576                   0.07%  \n",
      "70577                      0%  \n",
      "70578                   0.03%  \n",
      "70579                   0.58%  \n",
      "70580                   0.01%  \n",
      "70581                   0.04%  \n",
      "70582                   2.66%  \n",
      "70583                      0%  \n",
      "70584                      0%  \n",
      "70585                  45.48%  \n",
      "70586                      0%  \n",
      "70587                      0%  \n",
      "70588                   0.12%  \n",
      "70589                   7.56%  \n",
      "70590                   3.85%  \n",
      "70591                   0.59%  \n",
      "70592                  13.31%  \n",
      "70593                   3.54%  \n",
      "70594                  16.23%  \n",
      "70595                    0.5%  \n",
      "70596                   5.41%  \n",
      "70597                    100%  \n",
      "\n",
      "[70598 rows x 11 columns]\n"
     ]
    }
   ],
   "source": [
    "df_4_test.columns =  ['Hospital', 'Provider ID', 'State', 'Period', 'Claim Type', 'Avg Spending Hospital', 'Avg Spending State', 'Avg Spending Nation', 'Percent Spending Hospital', 'Percent Spending State', 'Percent Spending Nation']\n",
    "#df_4_test.dtypes\n",
    "print df_4_test"
   ]
  },
  {
   "cell_type": "markdown",
   "metadata": {},
   "source": [
    "**41) Find the statistics of average (mean) and percentage spending for different states, claim types, and hospitals.  In the cell below using the same dataframe used in 39 and 40. Place your code and print your results in the cell below **"
   ]
  },
  {
   "cell_type": "code",
   "execution_count": null,
   "metadata": {
    "collapsed": true
   },
   "outputs": [],
   "source": []
  },
  {
   "cell_type": "markdown",
   "metadata": {},
   "source": [
    "**42) Continuing with data from above, convert the dataframe content to be the right \"data type\" (i.e., int, float, etc) in order to perform statistical calculations for the DataFrame.  Provide your code and the resulting new print out as the answer.**\n",
    "<br>\n",
    "***Hint convert the columns with % and $***"
   ]
  },
  {
   "cell_type": "code",
   "execution_count": 4,
   "metadata": {},
   "outputs": [
    {
     "name": "stdout",
     "output_type": "stream",
     "text": [
      "                                    Hospital  Provider ID State  \\\n",
      "0           SOUTHEAST ALABAMA MEDICAL CENTER        10001    AL   \n",
      "1           SOUTHEAST ALABAMA MEDICAL CENTER        10001    AL   \n",
      "2           SOUTHEAST ALABAMA MEDICAL CENTER        10001    AL   \n",
      "3           SOUTHEAST ALABAMA MEDICAL CENTER        10001    AL   \n",
      "4           SOUTHEAST ALABAMA MEDICAL CENTER        10001    AL   \n",
      "5           SOUTHEAST ALABAMA MEDICAL CENTER        10001    AL   \n",
      "6           SOUTHEAST ALABAMA MEDICAL CENTER        10001    AL   \n",
      "7           SOUTHEAST ALABAMA MEDICAL CENTER        10001    AL   \n",
      "8           SOUTHEAST ALABAMA MEDICAL CENTER        10001    AL   \n",
      "9           SOUTHEAST ALABAMA MEDICAL CENTER        10001    AL   \n",
      "10          SOUTHEAST ALABAMA MEDICAL CENTER        10001    AL   \n",
      "11          SOUTHEAST ALABAMA MEDICAL CENTER        10001    AL   \n",
      "12          SOUTHEAST ALABAMA MEDICAL CENTER        10001    AL   \n",
      "13          SOUTHEAST ALABAMA MEDICAL CENTER        10001    AL   \n",
      "14          SOUTHEAST ALABAMA MEDICAL CENTER        10001    AL   \n",
      "15          SOUTHEAST ALABAMA MEDICAL CENTER        10001    AL   \n",
      "16          SOUTHEAST ALABAMA MEDICAL CENTER        10001    AL   \n",
      "17          SOUTHEAST ALABAMA MEDICAL CENTER        10001    AL   \n",
      "18          SOUTHEAST ALABAMA MEDICAL CENTER        10001    AL   \n",
      "19          SOUTHEAST ALABAMA MEDICAL CENTER        10001    AL   \n",
      "20          SOUTHEAST ALABAMA MEDICAL CENTER        10001    AL   \n",
      "21          SOUTHEAST ALABAMA MEDICAL CENTER        10001    AL   \n",
      "22                  MARSHALL MEDICAL CENTERS        10005    AL   \n",
      "23                  MARSHALL MEDICAL CENTERS        10005    AL   \n",
      "24                  MARSHALL MEDICAL CENTERS        10005    AL   \n",
      "25                  MARSHALL MEDICAL CENTERS        10005    AL   \n",
      "26                  MARSHALL MEDICAL CENTERS        10005    AL   \n",
      "27                  MARSHALL MEDICAL CENTERS        10005    AL   \n",
      "28                  MARSHALL MEDICAL CENTERS        10005    AL   \n",
      "29                  MARSHALL MEDICAL CENTERS        10005    AL   \n",
      "...                                      ...          ...   ...   \n",
      "70568  BAY AREA REGIONAL MEDICAL CENTER, LLC       670096    TX   \n",
      "70569  BAY AREA REGIONAL MEDICAL CENTER, LLC       670096    TX   \n",
      "70570  BAY AREA REGIONAL MEDICAL CENTER, LLC       670096    TX   \n",
      "70571  BAY AREA REGIONAL MEDICAL CENTER, LLC       670096    TX   \n",
      "70572  BAY AREA REGIONAL MEDICAL CENTER, LLC       670096    TX   \n",
      "70573  BAY AREA REGIONAL MEDICAL CENTER, LLC       670096    TX   \n",
      "70574  BAY AREA REGIONAL MEDICAL CENTER, LLC       670096    TX   \n",
      "70575  BAY AREA REGIONAL MEDICAL CENTER, LLC       670096    TX   \n",
      "70576               RESOLUTE HEALTH HOSPITAL       670098    TX   \n",
      "70577               RESOLUTE HEALTH HOSPITAL       670098    TX   \n",
      "70578               RESOLUTE HEALTH HOSPITAL       670098    TX   \n",
      "70579               RESOLUTE HEALTH HOSPITAL       670098    TX   \n",
      "70580               RESOLUTE HEALTH HOSPITAL       670098    TX   \n",
      "70581               RESOLUTE HEALTH HOSPITAL       670098    TX   \n",
      "70582               RESOLUTE HEALTH HOSPITAL       670098    TX   \n",
      "70583               RESOLUTE HEALTH HOSPITAL       670098    TX   \n",
      "70584               RESOLUTE HEALTH HOSPITAL       670098    TX   \n",
      "70585               RESOLUTE HEALTH HOSPITAL       670098    TX   \n",
      "70586               RESOLUTE HEALTH HOSPITAL       670098    TX   \n",
      "70587               RESOLUTE HEALTH HOSPITAL       670098    TX   \n",
      "70588               RESOLUTE HEALTH HOSPITAL       670098    TX   \n",
      "70589               RESOLUTE HEALTH HOSPITAL       670098    TX   \n",
      "70590               RESOLUTE HEALTH HOSPITAL       670098    TX   \n",
      "70591               RESOLUTE HEALTH HOSPITAL       670098    TX   \n",
      "70592               RESOLUTE HEALTH HOSPITAL       670098    TX   \n",
      "70593               RESOLUTE HEALTH HOSPITAL       670098    TX   \n",
      "70594               RESOLUTE HEALTH HOSPITAL       670098    TX   \n",
      "70595               RESOLUTE HEALTH HOSPITAL       670098    TX   \n",
      "70596               RESOLUTE HEALTH HOSPITAL       670098    TX   \n",
      "70597               RESOLUTE HEALTH HOSPITAL       670098    TX   \n",
      "\n",
      "                                                  Period  \\\n",
      "0          1 to 3 days Prior to Index Hospital Admission   \n",
      "1          1 to 3 days Prior to Index Hospital Admission   \n",
      "2          1 to 3 days Prior to Index Hospital Admission   \n",
      "3          1 to 3 days Prior to Index Hospital Admission   \n",
      "4          1 to 3 days Prior to Index Hospital Admission   \n",
      "5          1 to 3 days Prior to Index Hospital Admission   \n",
      "6          1 to 3 days Prior to Index Hospital Admission   \n",
      "7                        During Index Hospital Admission   \n",
      "8                        During Index Hospital Admission   \n",
      "9                        During Index Hospital Admission   \n",
      "10                       During Index Hospital Admission   \n",
      "11                       During Index Hospital Admission   \n",
      "12                       During Index Hospital Admission   \n",
      "13                       During Index Hospital Admission   \n",
      "14     1 through 30 days After Discharge from Index H...   \n",
      "15     1 through 30 days After Discharge from Index H...   \n",
      "16     1 through 30 days After Discharge from Index H...   \n",
      "17     1 through 30 days After Discharge from Index H...   \n",
      "18     1 through 30 days After Discharge from Index H...   \n",
      "19     1 through 30 days After Discharge from Index H...   \n",
      "20     1 through 30 days After Discharge from Index H...   \n",
      "21                                      Complete Episode   \n",
      "22         1 to 3 days Prior to Index Hospital Admission   \n",
      "23         1 to 3 days Prior to Index Hospital Admission   \n",
      "24         1 to 3 days Prior to Index Hospital Admission   \n",
      "25         1 to 3 days Prior to Index Hospital Admission   \n",
      "26         1 to 3 days Prior to Index Hospital Admission   \n",
      "27         1 to 3 days Prior to Index Hospital Admission   \n",
      "28         1 to 3 days Prior to Index Hospital Admission   \n",
      "29                       During Index Hospital Admission   \n",
      "...                                                  ...   \n",
      "70568  1 through 30 days After Discharge from Index H...   \n",
      "70569  1 through 30 days After Discharge from Index H...   \n",
      "70570  1 through 30 days After Discharge from Index H...   \n",
      "70571  1 through 30 days After Discharge from Index H...   \n",
      "70572  1 through 30 days After Discharge from Index H...   \n",
      "70573  1 through 30 days After Discharge from Index H...   \n",
      "70574  1 through 30 days After Discharge from Index H...   \n",
      "70575                                   Complete Episode   \n",
      "70576      1 to 3 days Prior to Index Hospital Admission   \n",
      "70577      1 to 3 days Prior to Index Hospital Admission   \n",
      "70578      1 to 3 days Prior to Index Hospital Admission   \n",
      "70579      1 to 3 days Prior to Index Hospital Admission   \n",
      "70580      1 to 3 days Prior to Index Hospital Admission   \n",
      "70581      1 to 3 days Prior to Index Hospital Admission   \n",
      "70582      1 to 3 days Prior to Index Hospital Admission   \n",
      "70583                    During Index Hospital Admission   \n",
      "70584                    During Index Hospital Admission   \n",
      "70585                    During Index Hospital Admission   \n",
      "70586                    During Index Hospital Admission   \n",
      "70587                    During Index Hospital Admission   \n",
      "70588                    During Index Hospital Admission   \n",
      "70589                    During Index Hospital Admission   \n",
      "70590  1 through 30 days After Discharge from Index H...   \n",
      "70591  1 through 30 days After Discharge from Index H...   \n",
      "70592  1 through 30 days After Discharge from Index H...   \n",
      "70593  1 through 30 days After Discharge from Index H...   \n",
      "70594  1 through 30 days After Discharge from Index H...   \n",
      "70595  1 through 30 days After Discharge from Index H...   \n",
      "70596  1 through 30 days After Discharge from Index H...   \n",
      "70597                                   Complete Episode   \n",
      "\n",
      "                      Claim Type Avg Spending Hospital Avg Spending State  \\\n",
      "0             Home Health Agency                    12                 14   \n",
      "1                        Hospice                     1                  1   \n",
      "2                      Inpatient                     6                  6   \n",
      "3                     Outpatient                   160                 85   \n",
      "4       Skilled Nursing Facility                     1                  2   \n",
      "5      Durable Medical Equipment                     6                  9   \n",
      "6                        Carrier                   462                492   \n",
      "7             Home Health Agency                     0                  0   \n",
      "8                        Hospice                     0                  0   \n",
      "9                      Inpatient                  8981               8723   \n",
      "10                    Outpatient                     0                  0   \n",
      "11      Skilled Nursing Facility                     0                  0   \n",
      "12     Durable Medical Equipment                    27                 32   \n",
      "13                       Carrier                  1587               1435   \n",
      "14            Home Health Agency                   988                898   \n",
      "15                       Hospice                   137                141   \n",
      "16                     Inpatient                  2943               2607   \n",
      "17                    Outpatient                   654                596   \n",
      "18      Skilled Nursing Facility                  1946               2437   \n",
      "19     Durable Medical Equipment                   141                124   \n",
      "20                       Carrier                   974                995   \n",
      "21                         Total                 19025              18597   \n",
      "22            Home Health Agency                    19                 14   \n",
      "23                       Hospice                     0                  1   \n",
      "24                     Inpatient                     0                  6   \n",
      "25                    Outpatient                    91                 85   \n",
      "26      Skilled Nursing Facility                     1                  2   \n",
      "27     Durable Medical Equipment                     6                  9   \n",
      "28                       Carrier                   446                492   \n",
      "29            Home Health Agency                     0                  0   \n",
      "...                          ...                   ...                ...   \n",
      "70568         Home Health Agency                   615                858   \n",
      "70569                    Hospice                    25                145   \n",
      "70570                  Inpatient                  5390               3975   \n",
      "70571                 Outpatient                   443                710   \n",
      "70572   Skilled Nursing Facility                  2395               2903   \n",
      "70573  Durable Medical Equipment                    83                114   \n",
      "70574                    Carrier                  1428               1231   \n",
      "70575                      Total                 20058              21484   \n",
      "70576         Home Health Agency                     0                 23   \n",
      "70577                    Hospice                     0                  1   \n",
      "70578                  Inpatient                     0                  5   \n",
      "70579                 Outpatient                    89                122   \n",
      "70580   Skilled Nursing Facility                     0                  3   \n",
      "70581  Durable Medical Equipment                     0                  9   \n",
      "70582                    Carrier                   565                585   \n",
      "70583         Home Health Agency                     0                  0   \n",
      "70584                    Hospice                     0                  0   \n",
      "70585                  Inpatient                  5693               9227   \n",
      "70586                 Outpatient                     0                  0   \n",
      "70587   Skilled Nursing Facility                     0                  0   \n",
      "70588  Durable Medical Equipment                    11                 30   \n",
      "70589                    Carrier                   581               1543   \n",
      "70590         Home Health Agency                  1305                858   \n",
      "70591                    Hospice                     0                145   \n",
      "70592                  Inpatient                  2738               3975   \n",
      "70593                 Outpatient                   817                710   \n",
      "70594   Skilled Nursing Facility                  4539               2903   \n",
      "70595  Durable Medical Equipment                    61                114   \n",
      "70596                    Carrier                  1168               1231   \n",
      "70597                      Total                 17568              21484   \n",
      "\n",
      "      Avg Spending Nation Percent Spending Hospital Percent Spending State  \\\n",
      "0                     $13                      0.06                   0.07   \n",
      "1                      $1                      0.01                   0.01   \n",
      "2                      $5                      0.03                   0.03   \n",
      "3                    $117                      0.84                   0.46   \n",
      "4                      $2                      0.01                   0.01   \n",
      "5                      $9                      0.03                   0.05   \n",
      "6                    $532                      2.43                   2.65   \n",
      "7                      $0                         0                      0   \n",
      "8                      $0                         0                      0   \n",
      "9                   $9108                     47.21                  46.91   \n",
      "10                     $0                         0                      0   \n",
      "11                     $0                         0                      0   \n",
      "12                    $24                      0.14                   0.17   \n",
      "13                  $1514                      8.34                   7.71   \n",
      "14                   $771                       5.2                   4.83   \n",
      "15                   $118                      0.72                   0.76   \n",
      "16                  $2665                     15.47                  14.02   \n",
      "17                   $710                      3.44                    3.2   \n",
      "18                  $3251                     10.23                   13.1   \n",
      "19                   $101                      0.74                   0.67   \n",
      "20                  $1083                      5.12                   5.35   \n",
      "21                 $20025                       100                    100   \n",
      "22                    $13                      0.12                   0.07   \n",
      "23                     $1                         0                   0.01   \n",
      "24                     $5                         0                   0.03   \n",
      "25                   $117                      0.55                   0.46   \n",
      "26                     $2                         0                   0.01   \n",
      "27                     $9                      0.03                   0.05   \n",
      "28                   $532                      2.69                   2.65   \n",
      "29                     $0                         0                      0   \n",
      "...                   ...                       ...                    ...   \n",
      "70568                $771                      3.07                   3.99   \n",
      "70569                $118                      0.12                   0.67   \n",
      "70570               $2665                     26.87                   18.5   \n",
      "70571                $710                      2.21                   3.31   \n",
      "70572               $3251                     11.94                  13.51   \n",
      "70573                $101                      0.41                   0.53   \n",
      "70574               $1083                      7.12                   5.73   \n",
      "70575              $20025                       100                    100   \n",
      "70576                 $13                         0                   0.11   \n",
      "70577                  $1                         0                   0.01   \n",
      "70578                  $5                         0                   0.02   \n",
      "70579                $117                      0.51                   0.57   \n",
      "70580                  $2                         0                   0.01   \n",
      "70581                  $9                         0                   0.04   \n",
      "70582                $532                      3.22                   2.72   \n",
      "70583                  $0                         0                      0   \n",
      "70584                  $0                         0                      0   \n",
      "70585               $9108                     32.41                  42.95   \n",
      "70586                  $0                         0                      0   \n",
      "70587                  $0                         0                      0   \n",
      "70588                 $24                      0.06                   0.14   \n",
      "70589               $1514                      3.31                   7.18   \n",
      "70590                $771                      7.43                   3.99   \n",
      "70591                $118                         0                   0.67   \n",
      "70592               $2665                     15.59                   18.5   \n",
      "70593                $710                      4.65                   3.31   \n",
      "70594               $3251                     25.83                  13.51   \n",
      "70595                $101                      0.35                   0.53   \n",
      "70596               $1083                      6.65                   5.73   \n",
      "70597              $20025                       100                    100   \n",
      "\n",
      "      Percent Spending Nation Avg Spending Nation   \n",
      "0                        0.07                   13  \n",
      "1                           0                    1  \n",
      "2                        0.03                    5  \n",
      "3                        0.58                  117  \n",
      "4                        0.01                    2  \n",
      "5                        0.04                    9  \n",
      "6                        2.66                  532  \n",
      "7                           0                    0  \n",
      "8                           0                    0  \n",
      "9                       45.48                 9108  \n",
      "10                          0                    0  \n",
      "11                          0                    0  \n",
      "12                       0.12                   24  \n",
      "13                       7.56                 1514  \n",
      "14                       3.85                  771  \n",
      "15                       0.59                  118  \n",
      "16                      13.31                 2665  \n",
      "17                       3.54                  710  \n",
      "18                      16.23                 3251  \n",
      "19                        0.5                  101  \n",
      "20                       5.41                 1083  \n",
      "21                        100                20025  \n",
      "22                       0.07                   13  \n",
      "23                          0                    1  \n",
      "24                       0.03                    5  \n",
      "25                       0.58                  117  \n",
      "26                       0.01                    2  \n",
      "27                       0.04                    9  \n",
      "28                       2.66                  532  \n",
      "29                          0                    0  \n",
      "...                       ...                  ...  \n",
      "70568                    3.85                  771  \n",
      "70569                    0.59                  118  \n",
      "70570                   13.31                 2665  \n",
      "70571                    3.54                  710  \n",
      "70572                   16.23                 3251  \n",
      "70573                     0.5                  101  \n",
      "70574                    5.41                 1083  \n",
      "70575                     100                20025  \n",
      "70576                    0.07                   13  \n",
      "70577                       0                    1  \n",
      "70578                    0.03                    5  \n",
      "70579                    0.58                  117  \n",
      "70580                    0.01                    2  \n",
      "70581                    0.04                    9  \n",
      "70582                    2.66                  532  \n",
      "70583                       0                    0  \n",
      "70584                       0                    0  \n",
      "70585                   45.48                 9108  \n",
      "70586                       0                    0  \n",
      "70587                       0                    0  \n",
      "70588                    0.12                   24  \n",
      "70589                    7.56                 1514  \n",
      "70590                    3.85                  771  \n",
      "70591                    0.59                  118  \n",
      "70592                   13.31                 2665  \n",
      "70593                    3.54                  710  \n",
      "70594                   16.23                 3251  \n",
      "70595                     0.5                  101  \n",
      "70596                    5.41                 1083  \n",
      "70597                     100                20025  \n",
      "\n",
      "[70598 rows x 12 columns]\n"
     ]
    }
   ],
   "source": [
    "#df_4_test.apply(pd.to_numeric, errors='ignore')\n",
    "#df_4_test['Percent Spending State'] = float(str(df_4_test['Percent Spending State']).rstrip('%'))\n",
    "df_4_test['Percent Spending State'] = df_4_test['Percent Spending State'].str[:-1]\n",
    "df_4_test['Percent Spending Hospital'] = df_4_test['Percent Spending Hospital'].str[:-1]\n",
    "df_4_test['Percent Spending Nation'] = df_4_test['Percent Spending Nation'].str[:-1]\n",
    "\n",
    "df_4_test['Avg Spending Hospital'] = df_4_test['Avg Spending Hospital'].str[1:]\n",
    "df_4_test['Avg Spending State'] = df_4_test['Avg Spending State'].str[1:]\n",
    "df_4_test['Avg Spending Nation '] = df_4_test['Avg Spending Nation'].str[1:]\n",
    "\n",
    "#df_4_test['Percent Spending State'] = df_4_test['Percent Spending State'].astype('float')\n",
    "#df_4_test['Percent Spending Hospital'] = df_4_test['Percent Spending Hospital'].astype('float')\n",
    "#df_4_test['Percent Spending Nation'] = df_4_test['Percent Spending Nation'].astype('float')\n",
    "\n",
    "\n",
    "\n",
    "#df_4_test['Avg Spending Hospital'] = df_4_test['Avg Spending Hospital'].astype('int')\n",
    "#df_4_test['Avg Spending State'] = df_4_test['Avg Spending State'].astype('int')\n",
    "#df_4_test['Avg Spending Nation'] = df_4_test['Avg Spending Nation'].astype('int')\n",
    "\n",
    "print df_4_test"
   ]
  },
  {
   "cell_type": "code",
   "execution_count": 5,
   "metadata": {},
   "outputs": [
    {
     "data": {
      "text/plain": [
       "Hospital                     object\n",
       "Provider ID                   int64\n",
       "State                        object\n",
       "Period                       object\n",
       "Claim Type                   object\n",
       "Avg Spending Hospital        object\n",
       "Avg Spending State           object\n",
       "Avg Spending Nation          object\n",
       "Percent Spending Hospital    object\n",
       "Percent Spending State       object\n",
       "Percent Spending Nation      object\n",
       "Avg Spending Nation          object\n",
       "dtype: object"
      ]
     },
     "execution_count": 5,
     "metadata": {},
     "output_type": "execute_result"
    }
   ],
   "source": [
    "df_4_test.dtypes"
   ]
  },
  {
   "cell_type": "markdown",
   "metadata": {},
   "source": [
    "**43) Continuing with the dataframe above, extract only the TX state claims into a new dataframe.  Provide your code and print the new dataframe (with only TX claims) below as the answer.**"
   ]
  },
  {
   "cell_type": "code",
   "execution_count": null,
   "metadata": {
    "collapsed": true
   },
   "outputs": [],
   "source": []
  },
  {
   "cell_type": "markdown",
   "metadata": {},
   "source": [
    "**44) Using the dataframe from above (Q 42), find the average spending for each different TX hospitals groupedby each kind of  different claim types.  Provide your code and the resulting new print out as the answer. **"
   ]
  },
  {
   "cell_type": "code",
   "execution_count": null,
   "metadata": {
    "collapsed": true
   },
   "outputs": [],
   "source": []
  },
  {
   "cell_type": "markdown",
   "metadata": {
    "collapsed": true
   },
   "source": [
    "**45) Continuing from above (Q 43), what is the mean and max percentage spending of different TX hospitals for each different claim types.  Provide your code and print out the answer. **"
   ]
  },
  {
   "cell_type": "code",
   "execution_count": null,
   "metadata": {
    "collapsed": true
   },
   "outputs": [],
   "source": []
  },
  {
   "cell_type": "markdown",
   "metadata": {},
   "source": [
    "**46) Using the whole dataset from the Medicare_Hospital_Spending_by_Claim.csv table (i.e., Q 39-41), sort the dataframe descending order by average spending and print out what the rank of TX is in terms of average spending when compared to other state averages. **"
   ]
  },
  {
   "cell_type": "code",
   "execution_count": null,
   "metadata": {
    "collapsed": true
   },
   "outputs": [],
   "source": []
  },
  {
   "cell_type": "markdown",
   "metadata": {},
   "source": [
    "**47) Give a very general and short definition of what an Analytical Model is or is supposed to do?**"
   ]
  },
  {
   "cell_type": "code",
   "execution_count": null,
   "metadata": {
    "collapsed": true
   },
   "outputs": [],
   "source": []
  },
  {
   "cell_type": "markdown",
   "metadata": {},
   "source": [
    "**48) Briefly describe the differences between \"supervised\" and \"unsupervised\" learning.**"
   ]
  },
  {
   "cell_type": "code",
   "execution_count": null,
   "metadata": {
    "collapsed": true
   },
   "outputs": [],
   "source": []
  },
  {
   "cell_type": "markdown",
   "metadata": {},
   "source": [
    "**49) Briefly describe the differences between \"classification\" and \"clustering\".**"
   ]
  },
  {
   "cell_type": "code",
   "execution_count": null,
   "metadata": {
    "collapsed": true
   },
   "outputs": [],
   "source": []
  },
  {
   "cell_type": "markdown",
   "metadata": {},
   "source": [
    "**50) Name 3 different \"kinds\" of Analytical Models and provide a brief definition of each. **"
   ]
  },
  {
   "cell_type": "code",
   "execution_count": null,
   "metadata": {
    "collapsed": true
   },
   "outputs": [],
   "source": [
    "vicious"
   ]
  },
  {
   "cell_type": "markdown",
   "metadata": {},
   "source": [
    "**EXTRA CREDIT 51) Why is Ordinary Least Squares Regression, called Ordinary Least Squares?**"
   ]
  },
  {
   "cell_type": "code",
   "execution_count": null,
   "metadata": {
    "collapsed": true
   },
   "outputs": [],
   "source": []
  },
  {
   "cell_type": "markdown",
   "metadata": {},
   "source": [
    "**EXTRA CREDIT 52) What makes \"big data\" different from \"small data\"? (Be brief - 1 to 2 paragaphs MAX)**"
   ]
  },
  {
   "cell_type": "code",
   "execution_count": null,
   "metadata": {
    "collapsed": true
   },
   "outputs": [],
   "source": []
  },
  {
   "cell_type": "markdown",
   "metadata": {},
   "source": [
    "**EXTRA CREDIT 53) What are WMD's according to Cathy O'Neil?**"
   ]
  },
  {
   "cell_type": "code",
   "execution_count": null,
   "metadata": {
    "collapsed": true
   },
   "outputs": [],
   "source": []
  },
  {
   "cell_type": "markdown",
   "metadata": {},
   "source": [
    "**EXTRA CREDIT 54) Why do vicious feedback loops matter in data analytics?**"
   ]
  },
  {
   "cell_type": "code",
   "execution_count": null,
   "metadata": {
    "collapsed": true
   },
   "outputs": [],
   "source": []
  },
  {
   "cell_type": "markdown",
   "metadata": {},
   "source": [
    "**EXTRA CREDIT 55) What are the 10 simple rules Zook et. al. Suggest to follow when doing big data analytics?**"
   ]
  },
  {
   "cell_type": "code",
   "execution_count": null,
   "metadata": {
    "collapsed": true
   },
   "outputs": [],
   "source": [
    "print \"\"\"\n",
    "10 Simple rules for Zook et. al are:\n",
    "\\t- Acknowledge that data are people and can do harm\n",
    "\\t- Recognize that privacy is more than a binary value\n",
    "\\t- Guard against the reidentification of your data\n",
    "\\t- Practice ethical data sharing\n",
    "\\t- Consider the strengths and limitations of your data; big does not automatically mean better\n",
    "\\t- Debate the tough, ethical choices\n",
    "\\t- Develop a code of conduct for your organization, research community, or industry\n",
    "\\t- Design your data and systems for auditability\n",
    "\\t- Engage with the broader consequences of data and analysis practices\n",
    "\\t- Know when to break these rules\n",
    "\"\"\""
   ]
  }
 ],
 "metadata": {
  "kernelspec": {
   "display_name": "Python 2",
   "language": "python",
   "name": "python2"
  },
  "language_info": {
   "codemirror_mode": {
    "name": "ipython",
    "version": 2
   },
   "file_extension": ".py",
   "mimetype": "text/x-python",
   "name": "python",
   "nbconvert_exporter": "python",
   "pygments_lexer": "ipython2",
   "version": "2.7.13"
  }
 },
 "nbformat": 4,
 "nbformat_minor": 1
}
